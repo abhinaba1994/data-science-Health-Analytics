{
 "cells": [
  {
   "cell_type": "markdown",
   "id": "9b0b2f62",
   "metadata": {},
   "source": [
    "# Data Cleaning"
   ]
  },
  {
   "cell_type": "code",
   "execution_count": 32,
   "id": "c98ab0be",
   "metadata": {},
   "outputs": [],
   "source": [
    "# Machine Learning\n",
    "from sklearn.model_selection import train_test_split\n",
    "from sklearn.preprocessing import StandardScaler\n",
    "from sklearn.linear_model import Ridge \n",
    "from sklearn.metrics import r2_score \n",
    "from sklearn.linear_model import LogisticRegression\n",
    "import numpy as np\n",
    "import pandas as pd\n",
    "import matplotlib\n",
    "import matplotlib.pyplot as plt\n",
    "import seaborn as sns\n",
    "from sklearn.utils import resample\n",
    "from sklearn import metrics\n",
    "from scipy.stats import norm\n",
    "from scipy.stats import t\n",
    "from scipy import stats as st\n",
    "from sklearn.decomposition import PCA\n",
    "from sklearn.feature_selection import VarianceThreshold \n",
    "from sklearn.feature_selection import SelectKBest\n",
    "from sklearn.feature_selection import chi2\n",
    "from sklearn.feature_selection import SelectFromModel \n",
    "from sklearn.svm import LinearSVC\n",
    "from sklearn.feature_selection import SelectKBest, f_classif\n",
    "from sklearn.ensemble import RandomForestClassifier\n",
    "from sklearn import svm\n",
    "from sklearn.utils import shuffle\n",
    "import matplotlib.pyplot as plt\n",
    "from sklearn.metrics import precision_recall_curve\n",
    "from sklearn.metrics import plot_confusion_matrix\n",
    "from sklearn.metrics import confusion_matrix\n",
    "import matplotlib.pyplot as plt "
   ]
  },
  {
   "cell_type": "code",
   "execution_count": 33,
   "id": "c2063dff",
   "metadata": {},
   "outputs": [
    {
     "name": "stdout",
     "output_type": "stream",
     "text": [
      "N    3614329\n",
      "U       5165\n",
      "Y        332\n",
      "Name: CA_ANEN, dtype: int64\n",
      "3614329 5165\n",
      "10000 213\n"
     ]
    },
    {
     "data": {
      "image/png": "[encoded data removed]",
      "text/plain": [
       "<Figure size 432x288 with 2 Axes>"
      ]
     },
     "metadata": {
      "needs_background": "light"
     },
     "output_type": "display_data"
    }
   ],
   "source": [
    "# take a look at our dataset\n",
    "import pandas as pd \n",
    "df2020 = pd.read_csv ('2020Anencephaly.csv') \n",
    "\n",
    "df = df2020\n",
    "print(df['CA_ANEN'].value_counts()) \n",
    "\n",
    "df = df.drop(['F_CIGS_0', 'F_CIGS_1', 'F_CIGS_2', 'F_CIGS_3', 'MRTERR', 'MRTERR.1', 'RESTATUS', 'F_TOBACO', 'BFACIL', 'DWgt_R'], axis=1) \n",
    "df.head()\n",
    "df['IP_GON'] = df['IP_GON'].map({'Y': 1, 'N': 0, 'U': 0})\n",
    "df['IP_SYPH'] = df['IP_SYPH'].map({'Y': 1, 'N': 0, 'U': 0})\n",
    "df['IP_CHLAM'] = df['IP_CHLAM'].map({'Y': 1, 'N': 0, 'U': 0})\n",
    "df['IP_HEPB'] = df['IP_HEPB'].map({'Y': 1, 'N': 0, 'U': 0})\n",
    "df['IP_HEPC'] = df['IP_HEPC'].map({'Y': 1, 'N': 0, 'U': 0})\n",
    "df['RF_PDIAB'] = df['RF_PDIAB'].map({'Y': 1, 'N': 0, 'U': 0})\n",
    "df['RF_GDIAB'] = df['RF_GDIAB'].map({'Y': 1, 'N': 0, 'U': 0})\n",
    "df['RF_INFTR'] = df['RF_INFTR'].map({\"Y\": 1, \"N\": 0, \"U\": 0})\n",
    "df['RF_FEDRG'] = df['RF_FEDRG'].map({'Y': 1, 'N': 0, 'U': 0, 'X': 0}) \n",
    "df['CA_ANEN'] = df['CA_ANEN'].map({'Y': 1, 'N': 0, 'U': 0}) \n",
    "df = df.dropna()\n",
    "df = df.astype('int') \n",
    "df = df[(df['CIG_0'] != 99)]  \n",
    "df = df[(df['CIG_1'] != 99)] \n",
    "df = df[(df['CIG_2'] != 99)] \n",
    "df = df[(df['CIG_3'] != 99)] \n",
    "df = df[(df['PRIORLIVE'] != 99)] \n",
    "df = df[(df['PRIORDEAD'] != 99)] \n",
    "df = df[(df['PRIORTERM'] != 99)]\n",
    "df = df[(df['ILLB_R'] != 999)] \n",
    "df = df[(df['ILOP_R'] != 999)] \n",
    "df = df[(df['ILP_R'] != 999)] \n",
    "df = df[(df['ILP_R'] != 999)] \n",
    "df = df[(df['BMI'] != 99.9)]\n",
    "df = df[(df['PWgt_R'] != 999)] \n",
    "df = df[(df['FAGECOMB'] != 99)] \n",
    "\n",
    "\n",
    "\n",
    "df.loc[df[\"ILLB_R\"] == 888, \"ILLB_R\"] = 0\n",
    "df.loc[df[\"ILOP_R\"] == 888, \"ILOP_R\"] = 0\n",
    "df.loc[df[\"ILP_R\"] == 888, \"ILP_R\"] = 0 \n",
    "df_save_for_causal = df \n",
    "false_data = df[df['CA_ANEN'] == 0] \n",
    "positive_data = df[df['CA_ANEN'] == 1] \n",
    "\n",
    "false_data_downsample = resample(false_data,\n",
    "             replace=True,\n",
    "             n_samples=10000,\n",
    "             random_state=42) \n",
    "df_resample2020 = pd.concat([false_data_downsample, positive_data]) \n",
    "df_resample2020.reset_index(drop=True, inplace=True) \n",
    "\n",
    "print(df2020['CA_ANEN'].value_counts()[0], df2020['CA_ANEN'].value_counts()[1])\n",
    "\n",
    "\n",
    "x1 = np.array([\"N\", \"Y\"]) \n",
    "y1 = np.array([df2020['CA_ANEN'].value_counts()[0] / len(df2020['CA_ANEN']) , \n",
    "               df2020['CA_ANEN'].value_counts()[1] / len(df2020['CA_ANEN'])])\n",
    "plt.subplot(1, 2, 1)\n",
    "plt.bar(x1,y1)\n",
    "plt.title('Before Downsampling')\n",
    "\n",
    "print(df_resample2020['CA_ANEN'].value_counts()[0], df_resample2020['CA_ANEN'].value_counts()[1])\n",
    "x2 = np.array([\"N\", \"Y\"]) \n",
    "y2 = np.array([df_resample2020['CA_ANEN'].value_counts()[0] / len(df_resample2020['CA_ANEN']), \n",
    "               df_resample2020['CA_ANEN'].value_counts()[1]/ len(df_resample2020['CA_ANEN'])])\n",
    "plt.subplot(1, 2, 2)\n",
    "plt.bar(x2,y2)\n",
    "plt.title('After downsampling')\n",
    "plt.show()"
   ]
  },
  {
   "cell_type": "code",
   "execution_count": 34,
   "id": "b411f8d7",
   "metadata": {},
   "outputs": [
    {
     "name": "stdout",
     "output_type": "stream",
     "text": [
      "N    3859385\n",
      "U       4937\n",
      "Y        432\n",
      "Name: CA_ANEN, dtype: int64\n"
     ]
    }
   ],
   "source": [
    "df2017 = pd.read_csv ('2017Anencephaly.csv') \n",
    "df = df2017\n",
    "print(df['CA_ANEN'].value_counts()) \n",
    "\n",
    "df = df.drop(['F_CIGS_0', 'F_CIGS_1', 'F_CIGS_2', 'F_CIGS_3', 'MRTERR', 'MRTERR.1', 'RESTATUS', 'F_TOBACO', 'BFACIL', 'DWgt_R'], axis=1) \n",
    "df.head()\n",
    "df['IP_GON'] = df['IP_GON'].map({'Y': 1, 'N': 0, 'U': 0})\n",
    "df['IP_SYPH'] = df['IP_SYPH'].map({'Y': 1, 'N': 0, 'U': 0})\n",
    "df['IP_CHLAM'] = df['IP_CHLAM'].map({'Y': 1, 'N': 0, 'U': 0})\n",
    "df['IP_HEPB'] = df['IP_HEPB'].map({'Y': 1, 'N': 0, 'U': 0})\n",
    "df['IP_HEPC'] = df['IP_HEPC'].map({'Y': 1, 'N': 0, 'U': 0})\n",
    "df['RF_PDIAB'] = df['RF_PDIAB'].map({'Y': 1, 'N': 0, 'U': 0})\n",
    "df['RF_GDIAB'] = df['RF_GDIAB'].map({'Y': 1, 'N': 0, 'U': 0})\n",
    "df['RF_INFTR'] = df['RF_INFTR'].map({\"Y\": 1, \"N\": 0, \"U\": 0})\n",
    "df['RF_FEDRG'] = df['RF_FEDRG'].map({'Y': 1, 'N': 0, 'U': 0, 'X': 0}) \n",
    "df['CA_ANEN'] = df['CA_ANEN'].map({'Y': 1, 'N': 0, 'U': 0}) \n",
    "df = df.dropna()\n",
    "df = df.astype('int') \n",
    "df = df[(df['CIG_0'] != 99)]  \n",
    "df = df[(df['CIG_1'] != 99)] \n",
    "df = df[(df['CIG_2'] != 99)] \n",
    "df = df[(df['CIG_3'] != 99)] \n",
    "df = df[(df['PRIORLIVE'] != 99)] \n",
    "df = df[(df['PRIORDEAD'] != 99)] \n",
    "df = df[(df['PRIORTERM'] != 99)]\n",
    "df = df[(df['ILLB_R'] != 999)] \n",
    "df = df[(df['ILOP_R'] != 999)] \n",
    "df = df[(df['ILP_R'] != 999)] \n",
    "df = df[(df['ILP_R'] != 999)] \n",
    "df = df[(df['BMI'] != 99.9)]\n",
    "df = df[(df['PWgt_R'] != 999)] \n",
    "df = df[(df['FAGECOMB'] != 99)] \n",
    "\n",
    "df.loc[df[\"ILLB_R\"] == 888, \"ILLB_R\"] = 0\n",
    "df.loc[df[\"ILOP_R\"] == 888, \"ILOP_R\"] = 0\n",
    "df.loc[df[\"ILP_R\"] == 888, \"ILP_R\"] = 0\n",
    "false_data = df[df['CA_ANEN'] == 0] \n",
    "positive_data = df[df['CA_ANEN'] == 1] \n",
    "false_data_downsample = resample(false_data,\n",
    "             replace=True,\n",
    "             n_samples=10000,\n",
    "             random_state=42) \n",
    "df_resample2017 = pd.concat([false_data_downsample, positive_data]) \n",
    "df_resample2017.reset_index(drop=True, inplace=True)"
   ]
  },
  {
   "cell_type": "code",
   "execution_count": 35,
   "id": "da623fb7",
   "metadata": {},
   "outputs": [
    {
     "name": "stdout",
     "output_type": "stream",
     "text": [
      "N    3795073\n",
      "U       6107\n",
      "Y        354\n",
      "Name: CA_ANEN, dtype: int64\n"
     ]
    }
   ],
   "source": [
    "df2018 = pd.read_csv ('2018Anencephaly.csv') \n",
    "df = df2018\n",
    "print(df['CA_ANEN'].value_counts()) \n",
    "\n",
    "df = df.drop(['F_CIGS_0', 'F_CIGS_1', 'F_CIGS_2', 'F_CIGS_3', 'MRTERR', 'MRTERR.1', 'RESTATUS', 'F_TOBACO', 'BFACIL', 'DWgt_R'], axis=1) \n",
    "df.head()\n",
    "df['IP_GON'] = df['IP_GON'].map({'Y': 1, 'N': 0, 'U': 0})\n",
    "df['IP_SYPH'] = df['IP_SYPH'].map({'Y': 1, 'N': 0, 'U': 0})\n",
    "df['IP_CHLAM'] = df['IP_CHLAM'].map({'Y': 1, 'N': 0, 'U': 0})\n",
    "df['IP_HEPB'] = df['IP_HEPB'].map({'Y': 1, 'N': 0, 'U': 0})\n",
    "df['IP_HEPC'] = df['IP_HEPC'].map({'Y': 1, 'N': 0, 'U': 0})\n",
    "df['RF_PDIAB'] = df['RF_PDIAB'].map({'Y': 1, 'N': 0, 'U': 0})\n",
    "df['RF_GDIAB'] = df['RF_GDIAB'].map({'Y': 1, 'N': 0, 'U': 0})\n",
    "df['RF_INFTR'] = df['RF_INFTR'].map({\"Y\": 1, \"N\": 0, \"U\": 0})\n",
    "df['RF_FEDRG'] = df['RF_FEDRG'].map({'Y': 1, 'N': 0, 'U': 0, 'X': 0}) \n",
    "df['CA_ANEN'] = df['CA_ANEN'].map({'Y': 1, 'N': 0, 'U': 0}) \n",
    "df = df.dropna()\n",
    "df = df.astype('int') \n",
    "df = df[(df['CIG_0'] != 99)]  \n",
    "df = df[(df['CIG_1'] != 99)] \n",
    "df = df[(df['CIG_2'] != 99)] \n",
    "df = df[(df['CIG_3'] != 99)] \n",
    "df = df[(df['PRIORLIVE'] != 99)] \n",
    "df = df[(df['PRIORDEAD'] != 99)] \n",
    "df = df[(df['PRIORTERM'] != 99)]\n",
    "df = df[(df['ILLB_R'] != 999)] \n",
    "df = df[(df['ILOP_R'] != 999)] \n",
    "df = df[(df['ILP_R'] != 999)] \n",
    "df = df[(df['ILP_R'] != 999)] \n",
    "df = df[(df['BMI'] != 99.9)]\n",
    "df = df[(df['PWgt_R'] != 999)] \n",
    "df = df[(df['FAGECOMB'] != 99)] \n",
    "\n",
    "\n",
    "\n",
    "df.loc[df[\"ILLB_R\"] == 888, \"ILLB_R\"] = 0\n",
    "df.loc[df[\"ILOP_R\"] == 888, \"ILOP_R\"] = 0\n",
    "df.loc[df[\"ILP_R\"] == 888, \"ILP_R\"] = 0\n",
    "false_data = df[df['CA_ANEN'] == 0] \n",
    "positive_data = df[df['CA_ANEN'] == 1] \n",
    "false_data_downsample = resample(false_data,\n",
    "             replace=True,\n",
    "             n_samples=5000,\n",
    "             random_state=42) \n",
    "df_resample2018 = pd.concat([false_data_downsample, positive_data]) \n",
    "df_resample2018.reset_index(drop=True, inplace=True)"
   ]
  },
  {
   "cell_type": "code",
   "execution_count": 36,
   "id": "76557d0a",
   "metadata": {},
   "outputs": [],
   "source": [
    "df_resample = pd.concat([df_resample2020, df_resample2018, df_resample2017]) "
   ]
  },
  {
   "cell_type": "code",
   "execution_count": 66,
   "id": "80917239",
   "metadata": {},
   "outputs": [],
   "source": [
    "df_resample = shuffle(df_resample)"
   ]
  },
  {
   "cell_type": "markdown",
   "id": "cf51d9ad",
   "metadata": {},
   "source": [
    "# T-test"
   ]
  },
  {
   "cell_type": "code",
   "execution_count": 67,
   "id": "d5fc9246",
   "metadata": {},
   "outputs": [
    {
     "data": {
      "image/png": "[encoded data removed]",
      "text/plain": [
       "<Figure size 432x432 with 1 Axes>"
      ]
     },
     "metadata": {
      "needs_background": "light"
     },
     "output_type": "display_data"
    }
   ],
   "source": [
    "l = df_resample.columns.values.tolist() \n",
    "pValues = [] \n",
    "\n",
    "for i in range(len(l)-1): \n",
    "    results = st.ttest_ind(a=false_data_downsample[l[i]], b=positive_data[l[i]], equal_var=False, alternative='two-sided') \n",
    "    #print (l[i])\n",
    "    #print(\"  - statistics = {}\".format(results.statistic))\n",
    "    #print(\"  - p-value = {}\".format(results.pvalue)) \n",
    "    pValues.append(results.pvalue)\n",
    "\n",
    "plt.figure(figsize=(6, 6))\n",
    "bars = ('CIG_0', 'CIG_1', 'CIG_2', 'CIG_3', 'PRIORLIVE', 'PRIORDEAD', 'PRIORTERM', 'ILLB_R', 'ILOP_R', 'ILP_R', 'IP_GON', 'IP_SYPH', 'IP_CHLAM', 'IP_HEPB', 'IP_HEPC', 'RF_PDIAB', 'RF_GDIAB', 'BMI', 'PWgt_R', 'WTGAIN', 'RF_INFTR', 'RF_FEDRG', 'FEDUC', 'MEDUC', 'FAGECOMB', 'MAGER')\n",
    "y_pos = np.arange(len(pValues))\n",
    "plt.barh(y_pos, pValues)\n",
    "plt.yticks(y_pos, bars)\n",
    "plt.show()"
   ]
  },
  {
   "cell_type": "markdown",
   "id": "6acd6c15",
   "metadata": {},
   "source": [
    "# Logistic Regression"
   ]
  },
  {
   "cell_type": "code",
   "execution_count": 68,
   "id": "7387668e",
   "metadata": {},
   "outputs": [
    {
     "name": "stdout",
     "output_type": "stream",
     "text": [
      "25000 750\n"
     ]
    }
   ],
   "source": [
    "print(df_resample['CA_ANEN'].value_counts()[0], df_resample['CA_ANEN'].value_counts()[1]) "
   ]
  },
  {
   "cell_type": "code",
   "execution_count": 69,
   "id": "9095e78c",
   "metadata": {},
   "outputs": [],
   "source": [
    "# seprate train and val \n",
    "train_features = df_resample.iloc[:, :-1] \n",
    "train_labels = df_resample.iloc[:, -1] \n",
    "feature_names = train_features.columns \n",
    "X_train, X_valAndTest, y_train, y_valAndTest = train_test_split(train_features, train_labels, test_size=0.5, random_state=42)  \n",
    "X_val, X_test, y_val, y_test = train_test_split(X_valAndTest, y_valAndTest, test_size=0.5, random_state=42)  \n",
    "scaler = StandardScaler().fit(X_train) \n",
    "X_train = scaler.transform(X_train) \n",
    "X_val = scaler.transform(X_val) \n",
    "X_test = scaler.transform(X_test) "
   ]
  },
  {
   "cell_type": "code",
   "execution_count": 120,
   "id": "b670ddce",
   "metadata": {},
   "outputs": [
    {
     "name": "stdout",
     "output_type": "stream",
     "text": [
      "true_positive: 95 false_positive: 2362 false_negative: 80 true_negative: 3900\n",
      "Best Precision:  0.03929594760540319\n",
      "Best Recall:  0.5485714285714286\n",
      "Best F1:  0.07333842627960274\n",
      "clf LogisticRegression(class_weight='balanced', max_iter=300)\n",
      "bestK 9\n",
      "['WTGAIN', 'MEDUC', 'FEDUC', 'PRIORLIVE', 'CIG_0', 'PRIORDEAD', 'CIG_3', 'IP_HEPC', 'MAGER']\n"
     ]
    },
    {
     "data": {
      "image/png": "[encoded data removed]",
      "text/plain": [
       "<Figure size 432x288 with 1 Axes>"
      ]
     },
     "metadata": {
      "needs_background": "light"
     },
     "output_type": "display_data"
    }
   ],
   "source": [
    "bestModel = None\n",
    "bestRecall = - float('inf') \n",
    "bestFeatureSelection = None\n",
    "bestPrecision = 0 \n",
    "bestRecall = 0\n",
    "bestF1 = 0\n",
    "bestKValue = 0 \n",
    "k_arr = [] \n",
    "recall_arr = [] \n",
    "\n",
    "for bestK in range(X_train.shape[1]-1, 5, -1): \n",
    "    s = SelectKBest(f_classif, k=bestK) \n",
    "    X_train_new = s.fit_transform(X_train, y_train) \n",
    "    X_val_new = s.transform(X_val) \n",
    "    clf = LogisticRegression(solver='lbfgs', max_iter=300, class_weight = 'balanced').fit(np.array(X_train_new, \n",
    "                                                                                                   dtype = np.float64), \n",
    "                                                                                          np.array(y_train,dtype=np.float64)) \n",
    "    y_hat = np.dot(X_val_new, clf.coef_.T) + clf.intercept_\n",
    "    # rmse = np.sqrt(np.mean(np.square(y_val - y_hat)))  \n",
    "    y_hat[y_hat >= 0.01] = 1\n",
    "    y_hat[y_hat < 0.01] = 0 \n",
    "    temp = np.array(y_val)\n",
    "\n",
    "    true_positive = 0\n",
    "    false_positive = 0 \n",
    "    false_negative = 0\n",
    "    true_negative = 0\n",
    "\n",
    "    for i in range(len(y_hat)): \n",
    "        if y_hat[i] == 1 and temp[i] == 1: \n",
    "            true_positive += 1 \n",
    "        elif y_hat[i] == 1 and temp[i] == 0: \n",
    "            false_positive += 1\n",
    "        elif y_hat[i] == 0 and temp[i] == 1: \n",
    "            false_negative += 1 \n",
    "        else: \n",
    "            true_negative += 1 \n",
    "    # \n",
    "    Precision = true_positive / (true_positive + false_positive) \n",
    "    Recall = true_positive / (true_positive + false_negative) \n",
    "    F1 = 2 * Precision * Recall / (Precision + Recall) \n",
    "    k_arr.append(bestK)\n",
    "    recall_arr.append(Recall) \n",
    "    \n",
    "    #print(Recall)\n",
    "    if bestRecall < Recall: \n",
    "        bestModel = clf\n",
    "        bestRecall = Recall \n",
    "        bestFeatureSelection = s \n",
    "        bestPrecision = Precision \n",
    "        bestRecall = Recall\n",
    "        bestF1 = F1\n",
    "        bestKValue = bestK \n",
    "        \n",
    "print(\"true_positive:\", true_positive, \"false_positive:\", false_positive, \n",
    "      \"false_negative:\", false_negative, \"true_negative:\",true_negative)     \n",
    "print(\"Best Precision: \",bestPrecision) \n",
    "print(\"Best Recall: \",bestRecall) \n",
    "print(\"Best F1: \",bestF1) \n",
    "\n",
    "print(\"clf\", bestModel) \n",
    "print(\"bestK\", bestKValue)\n",
    "\n",
    "indexs = bestFeatureSelection.scores_.argsort()[-bestKValue:][::-1]\n",
    "important_factor = []\n",
    "for index in indexs: \n",
    "    important_factor.append(l[index]) \n",
    "print(important_factor) \n",
    "\n",
    "\n",
    "plt.plot(k_arr, recall_arr) \n",
    "plt.title('Recalls with Different Feature Selection for Logistic Regression') \n",
    "plt.xlabel('number of features') \n",
    "plt.ylabel('recalls') \n",
    "plt.show()"
   ]
  },
  {
   "cell_type": "code",
   "execution_count": 121,
   "id": "4b063bc1",
   "metadata": {},
   "outputs": [
    {
     "data": {
      "image/png": "[encoded data removed]",
      "text/plain": [
       "<Figure size 432x288 with 1 Axes>"
      ]
     },
     "metadata": {
      "needs_background": "light"
     },
     "output_type": "display_data"
    },
    {
     "name": "stdout",
     "output_type": "stream",
     "text": [
      "true_positive: 116 false_positive: 2447 false_negative: 71 true_negative: 3804\n",
      "Best Precision:  0.04525946156847444\n",
      "Best Recall:  0.6203208556149733\n",
      "Best F1:  0.08436363636363635\n"
     ]
    },
    {
     "name": "stderr",
     "output_type": "stream",
     "text": [
      "C:\\anaconda3\\envs\\cs590w\\lib\\site-packages\\sklearn\\utils\\deprecation.py:87: FutureWarning: Function plot_roc_curve is deprecated; Function :func:`plot_roc_curve` is deprecated in 1.0 and will be removed in 1.2. Use one of the class methods: :meth:`sklearn.metric.RocCurveDisplay.from_predictions` or :meth:`sklearn.metric.RocCurveDisplay.from_estimator`.\n",
      "  warnings.warn(msg, category=FutureWarning)\n"
     ]
    },
    {
     "data": {
      "text/plain": [
       "<sklearn.metrics._plot.roc_curve.RocCurveDisplay at 0x1d1dcea9ca0>"
      ]
     },
     "execution_count": 121,
     "metadata": {},
     "output_type": "execute_result"
    },
    {
     "data": {
      "image/png": "[encoded data removed]",
      "text/plain": [
       "<Figure size 432x288 with 1 Axes>"
      ]
     },
     "metadata": {
      "needs_background": "light"
     },
     "output_type": "display_data"
    }
   ],
   "source": [
    "X_test_new = bestFeatureSelection.fit_transform(X_test, y_test) \n",
    "\n",
    "y_hat = np.dot(X_test_new, bestModel.coef_.T) + bestModel.intercept_ \n",
    "y_hat[y_hat >= 0.01] = 1\n",
    "y_hat[y_hat < 0.01] = 0 \n",
    "temp = np.array(y_test)\n",
    "\n",
    "precision, recall, thresholds = precision_recall_curve(y_test, y_hat)\n",
    "\n",
    "#create precision recall curve\n",
    "fig, ax = plt.subplots()\n",
    "ax.plot(recall, precision, color='purple')\n",
    "\n",
    "#add axis labels to plot\n",
    "ax.set_title('Precision-Recall Curve')\n",
    "ax.set_ylabel('Precision')\n",
    "ax.set_xlabel('Recall')\n",
    "\n",
    "#display plot\n",
    "plt.show()\n",
    "\n",
    "true_positive = 0\n",
    "false_positive = 0 \n",
    "false_negative = 0\n",
    "true_negative = 0\n",
    "\n",
    "for i in range(len(y_hat)): \n",
    "    if y_hat[i] == 1 and temp[i] == 1: \n",
    "        true_positive += 1 \n",
    "    elif y_hat[i] == 1 and temp[i] == 0: \n",
    "        false_positive += 1\n",
    "    elif y_hat[i] == 0 and temp[i] == 1: \n",
    "        false_negative += 1 \n",
    "    else: \n",
    "        true_negative += 1 \n",
    "        \n",
    "print(\"true_positive:\", true_positive, \"false_positive:\", false_positive, \"false_negative:\", \n",
    "      false_negative, \"true_negative:\",true_negative) \n",
    "Precision = true_positive / (true_positive + false_positive) \n",
    "Recall = true_positive / (true_positive + false_negative) \n",
    "F1 = 2 * Precision * Recall / (Precision + Recall) \n",
    "\n",
    "print(\"Best Precision: \",Precision) \n",
    "print(\"Best Recall: \",Recall) \n",
    "print(\"Best F1: \",F1) \n",
    "metrics.plot_roc_curve(bestModel, X_test_new, y_test)  "
   ]
  },
  {
   "cell_type": "code",
   "execution_count": 122,
   "id": "71460e59",
   "metadata": {},
   "outputs": [
    {
     "name": "stderr",
     "output_type": "stream",
     "text": [
      "C:\\anaconda3\\envs\\cs590w\\lib\\site-packages\\sklearn\\utils\\deprecation.py:87: FutureWarning: Function plot_confusion_matrix is deprecated; Function `plot_confusion_matrix` is deprecated in 1.0 and will be removed in 1.2. Use one of the class methods: ConfusionMatrixDisplay.from_predictions or ConfusionMatrixDisplay.from_estimator.\n",
      "  warnings.warn(msg, category=FutureWarning)\n"
     ]
    },
    {
     "data": {
      "text/plain": [
       "<sklearn.metrics._plot.confusion_matrix.ConfusionMatrixDisplay at 0x1d1ddadc790>"
      ]
     },
     "execution_count": 122,
     "metadata": {},
     "output_type": "execute_result"
    },
    {
     "data": {
      "image/png": "[encoded data removed]",
      "text/plain": [
       "<Figure size 432x288 with 2 Axes>"
      ]
     },
     "metadata": {
      "needs_background": "light"
     },
     "output_type": "display_data"
    }
   ],
   "source": [
    "plot_confusion_matrix(bestModel, X_test_new, y_test)  "
   ]
  },
  {
   "cell_type": "code",
   "execution_count": 123,
   "id": "5b5dc787",
   "metadata": {},
   "outputs": [
    {
     "name": "stderr",
     "output_type": "stream",
     "text": [
      "No artists with labels found to put in legend.  Note that artists whose label start with an underscore are ignored when legend() is called with no argument.\n"
     ]
    },
    {
     "data": {
      "image/png": "[encoded data removed]",
      "text/plain": [
       "<Figure size 432x288 with 1 Axes>"
      ]
     },
     "metadata": {
      "needs_background": "light"
     },
     "output_type": "display_data"
    }
   ],
   "source": [
    "plt.barh(important_factor, bestModel.coef_[0].T)\n",
    "plt.legend()\n",
    "\n",
    "plt.xlabel('Importance')\n",
    "plt.ylabel('Feature Name')\n",
    "plt.title('Importance of Feature for Logistic Regression')\n",
    "\n",
    "plt.show()"
   ]
  },
  {
   "cell_type": "markdown",
   "id": "e194009d",
   "metadata": {},
   "source": [
    "# Random Forest: "
   ]
  },
  {
   "cell_type": "code",
   "execution_count": 88,
   "id": "dacc081a",
   "metadata": {},
   "outputs": [],
   "source": [
    "# seprate train and val \n",
    "# df_resample = shuffle(df_resample) \n",
    "train_features = df_resample.iloc[:, :-1] \n",
    "train_labels = df_resample.iloc[:, -1] \n",
    "feature_names = train_features.columns \n",
    "X_train, X_valAndTest, y_train, y_valAndTest = train_test_split(train_features, train_labels, test_size=0.5, random_state=42)  \n",
    "X_val, X_test, y_val, y_test = train_test_split(X_valAndTest, y_valAndTest, test_size=0.5, random_state=42)  \n",
    "scaler = StandardScaler().fit(X_train) \n",
    "X_train = scaler.transform(X_train) \n",
    "X_val = scaler.transform(X_val) \n",
    "X_test = scaler.transform(X_test)  "
   ]
  },
  {
   "cell_type": "code",
   "execution_count": 90,
   "id": "f636d7da",
   "metadata": {},
   "outputs": [
    {
     "name": "stdout",
     "output_type": "stream",
     "text": [
      "true_positive: 25 false_positive: 620 false_negative: 150 true_negative: 5642\n",
      "Best Precision:  0.04793756967670011\n",
      "Best Recall:  0.24571428571428572\n",
      "Best F1:  0.08022388059701492\n",
      "clf RandomForestClassifier(class_weight='balanced', max_depth=10, random_state=42)\n",
      "bestK 8\n",
      "['WTGAIN', 'MEDUC', 'FEDUC', 'PRIORLIVE', 'CIG_0', 'PRIORDEAD', 'CIG_3', 'IP_HEPC']\n"
     ]
    },
    {
     "data": {
      "image/png": "[encoded data removed]",
      "text/plain": [
       "<Figure size 432x288 with 1 Axes>"
      ]
     },
     "metadata": {
      "needs_background": "light"
     },
     "output_type": "display_data"
    }
   ],
   "source": [
    "bestModel = None\n",
    "bestRecall = - float('inf') \n",
    "bestFeatureSelection = None\n",
    "bestPrecision = 0 \n",
    "bestRecall = 0\n",
    "bestF1 = 0\n",
    "bestKValue = 0 \n",
    "k_arr = [] \n",
    "recall_arr = [] \n",
    "\n",
    "for bestK in range(X_train.shape[1]-1, 5, -1): \n",
    "    s = SelectKBest(f_classif, k=bestK)\n",
    "    X_train_new = s.fit_transform(X_train, y_train)\n",
    "    X_val_new = s.transform(X_val)\n",
    "    clf = RandomForestClassifier(max_depth=10, random_state=42, class_weight = 'balanced')\n",
    "    \n",
    "    clf.fit(X_train_new, y_train) \n",
    "    y_hat = clf.predict(X_val_new)\n",
    "    # rmse = np.sqrt(np.mean(np.square(y_val - y_hat)))  \n",
    "    y_hat[y_hat >= 0.01] = 1\n",
    "    y_hat[y_hat < 0.01] = 0 \n",
    "    temp = np.array(y_val)\n",
    "\n",
    "    true_positive = 0\n",
    "    false_positive = 0 \n",
    "    false_negative = 0\n",
    "    true_negative = 0\n",
    "\n",
    "    for i in range(len(y_hat)): \n",
    "        if y_hat[i] == 1 and temp[i] == 1: \n",
    "            true_positive += 1 \n",
    "        elif y_hat[i] == 1 and temp[i] == 0: \n",
    "            false_positive += 1\n",
    "        elif y_hat[i] == 0 and temp[i] == 1: \n",
    "            false_negative += 1 \n",
    "        else: \n",
    "            true_negative += 1 \n",
    "    # \n",
    "    Precision = true_positive / (true_positive + false_positive) \n",
    "    Recall = true_positive / (true_positive + false_negative) \n",
    "    F1 = 2 * Precision * Recall / (Precision + Recall) \n",
    "    k_arr.append(bestK)\n",
    "    recall_arr.append(Recall) \n",
    "    \n",
    "    #print(Recall)\n",
    "    if bestRecall < Recall: \n",
    "        bestModel = clf\n",
    "        bestRecall = Recall \n",
    "        bestFeatureSelection = s \n",
    "        bestPrecision = Precision \n",
    "        bestRecall = Recall\n",
    "        bestF1 = F1\n",
    "        bestKValue = bestK\n",
    "        \n",
    "print(\"true_positive:\", true_positive, \"false_positive:\", false_positive, \"false_negative:\", false_negative, \"true_negative:\",true_negative)     \n",
    "print(\"Best Precision: \",bestPrecision) \n",
    "print(\"Best Recall: \",bestRecall) \n",
    "print(\"Best F1: \",bestF1) \n",
    "\n",
    "print(\"clf\", bestModel) \n",
    "print(\"bestK\", bestKValue)\n",
    "indexs = bestFeatureSelection.scores_.argsort()[-bestKValue:][::-1]\n",
    "important_factor = []\n",
    "for index in indexs: \n",
    "    important_factor.append(l[index]) \n",
    "print(important_factor) \n",
    "\n",
    "plt.plot(k_arr, recall_arr) \n",
    "plt.title('Recalls with Different Feature for Random Forest') \n",
    "plt.xlabel('number of features') \n",
    "plt.ylabel('recalls') \n",
    "plt.show()"
   ]
  },
  {
   "cell_type": "code",
   "execution_count": 76,
   "id": "b1eec108",
   "metadata": {},
   "outputs": [
    {
     "data": {
      "image/png": "[encoded data removed]",
      "text/plain": [
       "<Figure size 432x288 with 1 Axes>"
      ]
     },
     "metadata": {
      "needs_background": "light"
     },
     "output_type": "display_data"
    },
    {
     "data": {
      "image/png": "[encoded data removed]",
      "text/plain": [
       "<Figure size 432x288 with 1 Axes>"
      ]
     },
     "metadata": {
      "needs_background": "light"
     },
     "output_type": "display_data"
    },
    {
     "name": "stdout",
     "output_type": "stream",
     "text": [
      "true_positive: 93 false_positive: 2313 false_negative: 94 true_negative: 3938\n",
      "Best Precision:  0.03865336658354115\n",
      "Best Recall:  0.49732620320855614\n",
      "Best F1:  0.0717315850366371\n"
     ]
    },
    {
     "name": "stderr",
     "output_type": "stream",
     "text": [
      "C:\\anaconda3\\envs\\cs590w\\lib\\site-packages\\sklearn\\utils\\deprecation.py:87: FutureWarning: Function plot_roc_curve is deprecated; Function :func:`plot_roc_curve` is deprecated in 1.0 and will be removed in 1.2. Use one of the class methods: :meth:`sklearn.metric.RocCurveDisplay.from_predictions` or :meth:`sklearn.metric.RocCurveDisplay.from_estimator`.\n",
      "  warnings.warn(msg, category=FutureWarning)\n"
     ]
    },
    {
     "data": {
      "text/plain": [
       "<sklearn.metrics._plot.roc_curve.RocCurveDisplay at 0x1d1ddde4cd0>"
      ]
     },
     "execution_count": 76,
     "metadata": {},
     "output_type": "execute_result"
    },
    {
     "data": {
      "image/png": "[encoded data removed]",
      "text/plain": [
       "<Figure size 432x288 with 1 Axes>"
      ]
     },
     "metadata": {
      "needs_background": "light"
     },
     "output_type": "display_data"
    }
   ],
   "source": [
    "X_test_new = bestFeatureSelection.fit_transform(X_test, y_test) \n",
    "X_val_new = bestFeatureSelection.fit_transform(X_val, y_val) \n",
    "X_train_new = bestFeatureSelection.fit_transform(X_train, y_train) \n",
    "\n",
    "bestRecall = - float('inf') \n",
    "bestDepth = -1\n",
    "depths = [] \n",
    "recalls = [] \n",
    "\n",
    "for i in range(2, 15): \n",
    "    tempModel = RandomForestClassifier(max_depth=i, random_state=42, class_weight = 'balanced')\n",
    "    tempModel.fit(X_train_new, y_train) \n",
    "    y_hat = tempModel.predict(X_val_new) \n",
    "    y_hat[y_hat >= 0.01] = 1 \n",
    "    y_hat[y_hat < 0.01] = 0 \n",
    "    \n",
    "    tn, fp, fn, tp = confusion_matrix(y_val, y_hat).ravel() \n",
    "    currRecall = tp / (tp + fn)\n",
    "    if bestRecall < currRecall: \n",
    "        bestModel = tempModel\n",
    "        bestDepth = i \n",
    "    depths.append(i) \n",
    "    recalls.append(currRecall) \n",
    "    \n",
    "fig = plt.figure()\n",
    "plt.plot(depths, recalls)\n",
    "fig.suptitle('Random Forest Depth vs. Recall', fontsize=20)\n",
    "plt.xlabel('depth', fontsize=18)\n",
    "plt.ylabel('recall', fontsize=16)\n",
    "\n",
    "bestModel = RandomForestClassifier(max_depth=2, random_state=42, class_weight = 'balanced') \n",
    "bestModel.fit(X_train_new, y_train) \n",
    "y_hat = bestModel.predict(X_test_new) \n",
    "\n",
    "precision, recall, thresholds = precision_recall_curve(y_test, y_hat)\n",
    "\n",
    "#create precision recall curve\n",
    "fig, ax = plt.subplots()\n",
    "ax.plot(recall, precision, color='purple') \n",
    "\n",
    "#add axis labels to plot\n",
    "ax.set_title('Precision-Recall Curve')\n",
    "ax.set_ylabel('Precision')\n",
    "ax.set_xlabel('Recall')\n",
    "\n",
    "#display plot\n",
    "plt.show()\n",
    "\n",
    "\n",
    "y_hat[y_hat >= 0.01] = 1 \n",
    "y_hat[y_hat < 0.01] = 0 \n",
    "temp = np.array(y_test)\n",
    "\n",
    "true_positive = 0 \n",
    "false_positive = 0 \n",
    "false_negative = 0 \n",
    "true_negative = 0 \n",
    "\n",
    "for i in range(len(y_hat)): \n",
    "    if y_hat[i] == 1 and temp[i] == 1: \n",
    "        true_positive += 1 \n",
    "    elif y_hat[i] == 1 and temp[i] == 0: \n",
    "        false_positive += 1\n",
    "    elif y_hat[i] == 0 and temp[i] == 1: \n",
    "        false_negative += 1 \n",
    "    else: \n",
    "        true_negative += 1 \n",
    "\n",
    "print(\"true_positive:\", true_positive, \n",
    "      \"false_positive:\", false_positive, \n",
    "      \"false_negative:\", false_negative, \n",
    "      \"true_negative:\",true_negative) \n",
    "\n",
    "Precision = true_positive / (true_positive + false_positive) \n",
    "Recall = true_positive / (true_positive + false_negative) \n",
    "F1 = 2 * Precision * Recall / (Precision + Recall) \n",
    "\n",
    "print(\"Best Precision: \",Precision) \n",
    "print(\"Best Recall: \",Recall) \n",
    "print(\"Best F1: \",F1) \n",
    "\n",
    "metrics.plot_roc_curve(bestModel, X_test_new, y_test)  "
   ]
  },
  {
   "cell_type": "code",
   "execution_count": 77,
   "id": "0cd57fbd",
   "metadata": {},
   "outputs": [
    {
     "data": {
      "image/png": "[encoded data removed]",
      "text/plain": [
       "<Figure size 432x288 with 1 Axes>"
      ]
     },
     "metadata": {
      "needs_background": "light"
     },
     "output_type": "display_data"
    }
   ],
   "source": [
    "plt.barh(important_factor,bestModel.feature_importances_, label=\"Feature Importance\")\n",
    "plt.legend()\n",
    "\n",
    "plt.xlabel('Importance')\n",
    "plt.ylabel('Features')\n",
    "plt.title('Feature Importance for Random Forest')\n",
    "\n",
    "plt.show()"
   ]
  },
  {
   "cell_type": "code",
   "execution_count": 78,
   "id": "ee64272a",
   "metadata": {},
   "outputs": [
    {
     "name": "stderr",
     "output_type": "stream",
     "text": [
      "C:\\anaconda3\\envs\\cs590w\\lib\\site-packages\\sklearn\\utils\\deprecation.py:87: FutureWarning: Function plot_confusion_matrix is deprecated; Function `plot_confusion_matrix` is deprecated in 1.0 and will be removed in 1.2. Use one of the class methods: ConfusionMatrixDisplay.from_predictions or ConfusionMatrixDisplay.from_estimator.\n",
      "  warnings.warn(msg, category=FutureWarning)\n"
     ]
    },
    {
     "data": {
      "text/plain": [
       "<sklearn.metrics._plot.confusion_matrix.ConfusionMatrixDisplay at 0x1d1deec8550>"
      ]
     },
     "execution_count": 78,
     "metadata": {},
     "output_type": "execute_result"
    },
    {
     "data": {
      "image/png": "[encoded data removed]",
      "text/plain": [
       "<Figure size 432x288 with 2 Axes>"
      ]
     },
     "metadata": {
      "needs_background": "light"
     },
     "output_type": "display_data"
    }
   ],
   "source": [
    "plot_confusion_matrix(bestModel, X_test_new, y_test)  "
   ]
  },
  {
   "cell_type": "markdown",
   "id": "71b033bd",
   "metadata": {},
   "source": [
    "# SVM + linear"
   ]
  },
  {
   "cell_type": "code",
   "execution_count": 109,
   "id": "a6361208",
   "metadata": {},
   "outputs": [],
   "source": [
    "# seprate train and val \n",
    "# df_resample = shuffle(df_resample)\n",
    "train_features = df_resample.iloc[:, :-1] \n",
    "train_labels = df_resample.iloc[:, -1] \n",
    "feature_names = train_features.columns \n",
    "X_train, X_valAndTest, y_train, y_valAndTest = train_test_split(train_features, train_labels, test_size=0.5, random_state=42)  \n",
    "X_val, X_test, y_val, y_test = train_test_split(X_valAndTest, y_valAndTest, test_size=0.5, random_state=42)  \n",
    "scaler = StandardScaler().fit(X_train) \n",
    "X_train = scaler.transform(X_train) \n",
    "X_val = scaler.transform(X_val) \n",
    "X_test = scaler.transform(X_test)  "
   ]
  },
  {
   "cell_type": "code",
   "execution_count": 110,
   "id": "dc8db968",
   "metadata": {},
   "outputs": [
    {
     "name": "stdout",
     "output_type": "stream",
     "text": [
      "Best Precision:  0.03772835583796664\n",
      "Best Recall:  0.5428571428571428\n",
      "Best F1:  0.07055328629780913\n",
      "clf SVC(C=3, class_weight='balanced', kernel='linear')\n",
      "bestK 11\n",
      "['WTGAIN', 'MEDUC', 'FEDUC', 'PRIORLIVE', 'CIG_0', 'PRIORDEAD', 'CIG_3', 'IP_HEPC', 'MAGER', 'RF_PDIAB', 'CIG_1']\n"
     ]
    },
    {
     "data": {
      "image/png": "[encoded data removed]",
      "text/plain": [
       "<Figure size 432x288 with 1 Axes>"
      ]
     },
     "metadata": {
      "needs_background": "light"
     },
     "output_type": "display_data"
    }
   ],
   "source": [
    "bestModel = None\n",
    "bestRecall = - float('inf') \n",
    "bestFeatureSelection = None\n",
    "bestPrecision = 0 \n",
    "bestRecall = 0\n",
    "bestF1 = 0\n",
    "bestKValue = 0 \n",
    "k_arr = [] \n",
    "recall_arr = [] \n",
    "\n",
    "for bestK in range(X_train.shape[1]-1, 5, -1): \n",
    "    s = SelectKBest(f_classif, k=bestK) \n",
    "    X_train_new = s.fit_transform(X_train, y_train) \n",
    "    X_val_new = s.transform(X_val) \n",
    "    clf = svm.SVC(C=3, kernel='linear', class_weight = 'balanced') \n",
    "    clf.fit(X_train_new, y_train) \n",
    "    y_hat = clf.predict(X_val_new) \n",
    "    # rmse = np.sqrt(np.mean(np.square(y_val - y_hat)))  \n",
    "    y_hat[y_hat >= 0.01] = 1 \n",
    "    y_hat[y_hat < 0.01] = 0  \n",
    "    temp = np.array(y_val) \n",
    "\n",
    "    true_positive = 0\n",
    "    false_positive = 0 \n",
    "    false_negative = 0\n",
    "    true_negative = 0\n",
    "\n",
    "    for i in range(len(y_hat)): \n",
    "        if y_hat[i] == 1 and temp[i] == 1: \n",
    "            true_positive += 1 \n",
    "        elif y_hat[i] == 1 and temp[i] == 0: \n",
    "            false_positive += 1 \n",
    "        elif y_hat[i] == 0 and temp[i] == 1: \n",
    "            false_negative += 1 \n",
    "        else: \n",
    "            true_negative += 1 \n",
    "    # print(\"true_positive:\", true_positive, \"false_positive:\", false_positive, \"false_negative:\", false_negative, \"true_negative:\",true_negative) \n",
    "    Precision = true_positive / (true_positive + false_positive) \n",
    "    Recall = true_positive / (true_positive + false_negative) \n",
    "    F1 = 2 * Precision * Recall / (Precision + Recall) \n",
    "    k_arr.append(bestK)\n",
    "    recall_arr.append(Recall) \n",
    "    \n",
    "    \n",
    "    #print(Recall)\n",
    "    if bestRecall < Recall: \n",
    "        bestModel = clf\n",
    "        bestRecall = Recall \n",
    "        bestFeatureSelection = s \n",
    "        bestPrecision = Precision \n",
    "        bestRecall = Recall\n",
    "        bestF1 = F1\n",
    "        bestKValue = bestK\n",
    "        \n",
    "    \n",
    "print(\"Best Precision: \",bestPrecision) \n",
    "print(\"Best Recall: \",bestRecall) \n",
    "print(\"Best F1: \",bestF1) \n",
    "\n",
    "print(\"clf\", bestModel) \n",
    "print(\"bestK\", bestKValue) \n",
    "indexs = bestFeatureSelection.scores_.argsort()[-bestKValue:][::-1] \n",
    "important_factor = [] \n",
    "for index in indexs: \n",
    "    important_factor.append(l[index]) \n",
    "print(important_factor) \n",
    "\n",
    "plt.plot(k_arr, recall_arr) \n",
    "plt.title('Recalls with Different Feature Selection for SVM with Linear Kernel') \n",
    "plt.xlabel('number of features') \n",
    "plt.ylabel('recalls') \n",
    "plt.show()"
   ]
  },
  {
   "cell_type": "code",
   "execution_count": 119,
   "id": "66dea2ae",
   "metadata": {},
   "outputs": [
    {
     "data": {
      "image/png": "[encoded data removed]",
      "text/plain": [
       "<Figure size 432x288 with 1 Axes>"
      ]
     },
     "metadata": {
      "needs_background": "light"
     },
     "output_type": "display_data"
    },
    {
     "data": {
      "image/png": "[encoded data removed]",
      "text/plain": [
       "<Figure size 432x288 with 1 Axes>"
      ]
     },
     "metadata": {
      "needs_background": "light"
     },
     "output_type": "display_data"
    },
    {
     "name": "stdout",
     "output_type": "stream",
     "text": [
      "true_positive: 113 false_positive: 2421 false_negative: 74 true_negative: 3830\n",
      "Best Precision:  0.04459352801894238\n",
      "Best Recall:  0.6042780748663101\n",
      "Best F1:  0.08305769937522971\n"
     ]
    },
    {
     "name": "stderr",
     "output_type": "stream",
     "text": [
      "C:\\anaconda3\\envs\\cs590w\\lib\\site-packages\\sklearn\\utils\\deprecation.py:87: FutureWarning: Function plot_roc_curve is deprecated; Function :func:`plot_roc_curve` is deprecated in 1.0 and will be removed in 1.2. Use one of the class methods: :meth:`sklearn.metric.RocCurveDisplay.from_predictions` or :meth:`sklearn.metric.RocCurveDisplay.from_estimator`.\n",
      "  warnings.warn(msg, category=FutureWarning)\n"
     ]
    },
    {
     "data": {
      "text/plain": [
       "<sklearn.metrics._plot.roc_curve.RocCurveDisplay at 0x1d1dd3878e0>"
      ]
     },
     "execution_count": 119,
     "metadata": {},
     "output_type": "execute_result"
    },
    {
     "data": {
      "image/png": "[encoded data removed]",
      "text/plain": [
       "<Figure size 432x288 with 1 Axes>"
      ]
     },
     "metadata": {
      "needs_background": "light"
     },
     "output_type": "display_data"
    }
   ],
   "source": [
    "X_train_new = bestFeatureSelection.transform(X_train) \n",
    "X_val_new = bestFeatureSelection.transform(X_val) \n",
    "\n",
    "bestRecall = - float('inf') \n",
    "bestDepth = -1\n",
    "Cs = [] \n",
    "recalls = [] \n",
    "\n",
    "Cs = np.linspace(0.1,1,11)\n",
    "\n",
    "for c_val in Cs: \n",
    "    tempModel = svm.SVC(C=c_val, kernel='linear', class_weight = 'balanced') \n",
    "    tempModel.fit(X_train_new, y_train) \n",
    "    y_hat = tempModel.predict(X_val_new) \n",
    "\n",
    "    y_hat[y_hat >= 0.01] = 1 \n",
    "    y_hat[y_hat < 0.01] = 0 \n",
    "    \n",
    "    tn, fp, fn, tp = confusion_matrix(y_val, y_hat).ravel() \n",
    "    currRecall = tp / (tp + fn)\n",
    "    if bestRecall < currRecall: \n",
    "        bestModel = tempModel\n",
    "        bestDepth = i \n",
    "    recalls.append(currRecall) \n",
    "\n",
    "fig = plt.figure()\n",
    "plt.scatter(Cs, recalls) \n",
    "fig.suptitle('C vs. Recall', fontsize=20)\n",
    "plt.xlabel('C', fontsize=18)\n",
    "plt.ylabel('recall', fontsize=16) \n",
    "\n",
    "X_test_new = bestFeatureSelection.fit_transform(X_test, y_test) \n",
    "y_hat = bestModel.predict(X_test_new) \n",
    "\n",
    "precision, recall, thresholds = precision_recall_curve(y_test, y_hat)\n",
    "\n",
    "#create precision recall curve\n",
    "fig, ax = plt.subplots()\n",
    "ax.plot(recall, precision, color='purple')\n",
    "\n",
    "#add axis labels to plot\n",
    "ax.set_title('Precision-Recall Curve')\n",
    "ax.set_ylabel('Precision')\n",
    "ax.set_xlabel('Recall')\n",
    "\n",
    "#display plot\n",
    "plt.show()\n",
    "\n",
    "y_hat[y_hat >= 0.01] = 1 \n",
    "y_hat[y_hat < 0.01] = 0 \n",
    "temp = np.array(y_test)\n",
    "\n",
    "true_positive = 0 \n",
    "false_positive = 0 \n",
    "false_negative = 0 \n",
    "true_negative = 0 \n",
    "\n",
    "for i in range(len(y_hat)): \n",
    "    if y_hat[i] == 1 and temp[i] == 1: \n",
    "        true_positive += 1 \n",
    "    elif y_hat[i] == 1 and temp[i] == 0: \n",
    "        false_positive += 1\n",
    "    elif y_hat[i] == 0 and temp[i] == 1: \n",
    "        false_negative += 1 \n",
    "    else: \n",
    "        true_negative += 1 \n",
    "        \n",
    "print(\"true_positive:\", true_positive, \n",
    "      \"false_positive:\", false_positive, \n",
    "      \"false_negative:\", false_negative, \n",
    "      \"true_negative:\",true_negative) \n",
    "\n",
    "Precision = true_positive / (true_positive + false_positive) \n",
    "Recall = true_positive / (true_positive + false_negative) \n",
    "F1 = 2 * Precision * Recall / (Precision + Recall) \n",
    "\n",
    "print(\"Best Precision: \", Precision) \n",
    "print(\"Best Recall: \", Recall) \n",
    "print(\"Best F1: \", F1) \n",
    "\n",
    "metrics.plot_roc_curve(bestModel, X_test_new, y_test)  "
   ]
  },
  {
   "cell_type": "code",
   "execution_count": 113,
   "id": "df019194",
   "metadata": {},
   "outputs": [
    {
     "name": "stderr",
     "output_type": "stream",
     "text": [
      "C:\\anaconda3\\envs\\cs590w\\lib\\site-packages\\sklearn\\utils\\deprecation.py:87: FutureWarning: Function plot_confusion_matrix is deprecated; Function `plot_confusion_matrix` is deprecated in 1.0 and will be removed in 1.2. Use one of the class methods: ConfusionMatrixDisplay.from_predictions or ConfusionMatrixDisplay.from_estimator.\n",
      "  warnings.warn(msg, category=FutureWarning)\n"
     ]
    },
    {
     "data": {
      "text/plain": [
       "<sklearn.metrics._plot.confusion_matrix.ConfusionMatrixDisplay at 0x1d1de74bfa0>"
      ]
     },
     "execution_count": 113,
     "metadata": {},
     "output_type": "execute_result"
    },
    {
     "data": {
      "image/png": "[encoded data removed]",
      "text/plain": [
       "<Figure size 432x288 with 2 Axes>"
      ]
     },
     "metadata": {
      "needs_background": "light"
     },
     "output_type": "display_data"
    }
   ],
   "source": [
    "plot_confusion_matrix(bestModel, X_test_new, y_test)  "
   ]
  },
  {
   "cell_type": "markdown",
   "id": "da2e92a0",
   "metadata": {},
   "source": [
    "# SVM + rbf"
   ]
  },
  {
   "cell_type": "code",
   "execution_count": 114,
   "id": "a5c09136",
   "metadata": {},
   "outputs": [],
   "source": [
    "# seprate train and val \n",
    "# df_resample = shuffle(df_resample)\n",
    "train_features = df_resample.iloc[:, :-1] \n",
    "train_labels = df_resample.iloc[:, -1] \n",
    "feature_names = train_features.columns \n",
    "X_train, X_valAndTest, y_train, y_valAndTest = train_test_split(train_features, train_labels, test_size=0.5, random_state=42)  \n",
    "X_val, X_test, y_val, y_test = train_test_split(X_valAndTest, y_valAndTest, test_size=0.5, random_state=42)  \n",
    "scaler = StandardScaler().fit(X_train) \n",
    "X_train = scaler.transform(X_train) \n",
    "X_val = scaler.transform(X_val) \n",
    "X_test = scaler.transform(X_test)  "
   ]
  },
  {
   "cell_type": "code",
   "execution_count": 115,
   "id": "0ba0c636",
   "metadata": {},
   "outputs": [
    {
     "name": "stdout",
     "output_type": "stream",
     "text": [
      "true_positive: 81 false_positive: 1989 false_negative: 94 true_negative: 4273\n",
      "Best Precision:  0.0391304347826087\n",
      "Best Recall:  0.46285714285714286\n",
      "Best F1:  0.07216035634743877\n",
      "clf SVC(C=0.62, class_weight='balanced')\n",
      "bestK 6\n",
      "['WTGAIN', 'MEDUC', 'FEDUC', 'PRIORLIVE', 'CIG_0', 'PRIORDEAD']\n"
     ]
    },
    {
     "data": {
      "image/png": "[encoded data removed]",
      "text/plain": [
       "<Figure size 432x288 with 1 Axes>"
      ]
     },
     "metadata": {
      "needs_background": "light"
     },
     "output_type": "display_data"
    }
   ],
   "source": [
    "bestModel = None\n",
    "bestRecall = - float('inf') \n",
    "bestFeatureSelection = None\n",
    "bestPrecision = 0 \n",
    "bestRecall = 0\n",
    "bestF1 = 0\n",
    "bestKValue = 0 \n",
    "bestTP = 0 \n",
    "bestFP = 0\n",
    "bestTN = 0\n",
    "bestFN = 0\n",
    "x_val_saved = None\n",
    "y_val_saved = None\n",
    "X_val_new = None\n",
    "k_arr = [] \n",
    "recall_arr = [] \n",
    "\n",
    "for bestK in range(X_train.shape[1]-1, 5, -1): \n",
    "    s = SelectKBest(f_classif, k=bestK)\n",
    "    X_train_new = s.fit_transform(X_train, y_train)\n",
    "    X_val_new = s.transform(X_val)\n",
    "\n",
    "    \n",
    "    \n",
    "    clf = svm.SVC(C=0.62, kernel='rbf', class_weight = 'balanced')\n",
    "    clf.fit(X_train_new, y_train) \n",
    "    y_hat = clf.predict(X_val_new)\n",
    "    \n",
    "    # rmse = np.sqrt(np.mean(np.square(y_val - y_hat)))  \n",
    "    y_hat[y_hat >= 0.1] = 1\n",
    "    y_hat[y_hat < 0.1] = 0 \n",
    "    temp = np.array(y_val)\n",
    "\n",
    "    true_positive = 0\n",
    "    false_positive = 0 \n",
    "    false_negative = 0\n",
    "    true_negative = 0\n",
    "\n",
    "    for i in range(len(y_hat)): \n",
    "        if y_hat[i] == 1 and temp[i] == 1: \n",
    "            true_positive += 1 \n",
    "        elif y_hat[i] == 1 and temp[i] == 0: \n",
    "            false_positive += 1\n",
    "        elif y_hat[i] == 0 and temp[i] == 1: \n",
    "            false_negative += 1 \n",
    "        else: \n",
    "            true_negative += 1 \n",
    "    # print(\"true_positive:\", true_positive, \"false_positive:\", false_positive, \"false_negative:\", false_negative, \"true_negative:\",true_negative) \n",
    "    Precision = true_positive / (true_positive + false_positive) \n",
    "    Recall = true_positive / (true_positive + false_negative) \n",
    "    F1 = 2 * Precision * Recall / (Precision + Recall) \n",
    "    k_arr.append(bestK)\n",
    "    recall_arr.append(Recall) \n",
    "    \n",
    "    #print(Recall)\n",
    "    if bestRecall < Recall: \n",
    "        bestModel = clf\n",
    "        bestRecall = Recall \n",
    "        bestFeatureSelection = s \n",
    "        bestPrecision = Precision \n",
    "        bestRecall = Recall\n",
    "        bestF1 = F1\n",
    "        bestKValue = bestK\n",
    "        bestTP = true_positive\n",
    "        bestFP = false_positive\n",
    "        bestFN = false_negative \n",
    "        bestTN = true_negative \n",
    "    #if bestK == 5: \n",
    "        #x_val_saved = x_val_new\n",
    "        #y_val_saved = y_hat \n",
    "        \n",
    "        \n",
    "    \n",
    "        \n",
    "print(\"true_positive:\", bestTP, \"false_positive:\", bestFP, \"false_negative:\", bestFN, \"true_negative:\",bestTN)     \n",
    "print(\"Best Precision: \",bestPrecision) \n",
    "print(\"Best Recall: \",bestRecall) \n",
    "print(\"Best F1: \",bestF1) \n",
    "\n",
    "print(\"clf\", bestModel) \n",
    "print(\"bestK\", bestKValue)\n",
    "indexs = bestFeatureSelection.scores_.argsort()[-bestKValue:][::-1]\n",
    "important_factor = []\n",
    "for index in indexs: \n",
    "    important_factor.append(l[index]) \n",
    "print(important_factor) \n",
    "\n",
    "plt.plot(k_arr, recall_arr) \n",
    "plt.title('Recalls with Different Feature Selection SVM with RBF Kernel') \n",
    "plt.xlabel('number of features') \n",
    "plt.ylabel('recalls') \n",
    "plt.show()"
   ]
  },
  {
   "cell_type": "code",
   "execution_count": 117,
   "id": "23f8b34d",
   "metadata": {},
   "outputs": [
    {
     "data": {
      "image/png": "[encoded data removed]",
      "text/plain": [
       "<Figure size 432x288 with 1 Axes>"
      ]
     },
     "metadata": {
      "needs_background": "light"
     },
     "output_type": "display_data"
    },
    {
     "data": {
      "image/png": "[encoded data removed]",
      "text/plain": [
       "<Figure size 432x288 with 1 Axes>"
      ]
     },
     "metadata": {
      "needs_background": "light"
     },
     "output_type": "display_data"
    },
    {
     "name": "stdout",
     "output_type": "stream",
     "text": [
      "true_positive: 102 false_positive: 2015 false_negative: 85 true_negative: 4236\n",
      "Best Precision:  0.048181388757675955\n",
      "Best Recall:  0.5454545454545454\n",
      "Best F1:  0.08854166666666666\n"
     ]
    },
    {
     "name": "stderr",
     "output_type": "stream",
     "text": [
      "C:\\anaconda3\\envs\\cs590w\\lib\\site-packages\\sklearn\\utils\\deprecation.py:87: FutureWarning: Function plot_roc_curve is deprecated; Function :func:`plot_roc_curve` is deprecated in 1.0 and will be removed in 1.2. Use one of the class methods: :meth:`sklearn.metric.RocCurveDisplay.from_predictions` or :meth:`sklearn.metric.RocCurveDisplay.from_estimator`.\n",
      "  warnings.warn(msg, category=FutureWarning)\n"
     ]
    },
    {
     "data": {
      "text/plain": [
       "<sklearn.metrics._plot.roc_curve.RocCurveDisplay at 0x1d1de783490>"
      ]
     },
     "execution_count": 117,
     "metadata": {},
     "output_type": "execute_result"
    },
    {
     "data": {
      "image/png": "[encoded data removed]",
      "text/plain": [
       "<Figure size 432x288 with 1 Axes>"
      ]
     },
     "metadata": {
      "needs_background": "light"
     },
     "output_type": "display_data"
    }
   ],
   "source": [
    "X_train_new = bestFeatureSelection.transform(X_train) \n",
    "X_val_new = bestFeatureSelection.transform(X_val) \n",
    "X_test_new = bestFeatureSelection.transform(X_test) \n",
    "\n",
    "Cs = [] \n",
    "recalls = [] \n",
    "\n",
    "Cs = np.linspace(0.1,1,11)\n",
    "\n",
    "\n",
    "for c_val in Cs: \n",
    "    tempModel = svm.SVC(C=c_val, kernel='rbf', class_weight = 'balanced') \n",
    "    tempModel.fit(X_train_new, y_train) \n",
    "    y_hat = tempModel.predict(X_val_new) \n",
    "\n",
    "    y_hat[y_hat >= 0.01] = 1 \n",
    "    y_hat[y_hat < 0.01] = 0 \n",
    "    \n",
    "    tn, fp, fn, tp = confusion_matrix(y_val, y_hat).ravel() \n",
    "    currRecall = tp / (tp + fn)\n",
    "    if bestRecall < currRecall: \n",
    "        bestModel = tempModel\n",
    "        bestDepth = i \n",
    "    recalls.append(currRecall) \n",
    "\n",
    "fig = plt.figure() \n",
    "plt.scatter(Cs, recalls) \n",
    "fig.suptitle('SVM rbf C vs. Recall', fontsize=20) \n",
    "plt.xlabel('C', fontsize=18) \n",
    "plt.ylabel('recall', fontsize=16) \n",
    "\n",
    "y_hat = bestModel.predict(X_test_new) \n",
    "\n",
    "precision, recall, thresholds = precision_recall_curve(y_test, y_hat)\n",
    "\n",
    "#create precision recall curve\n",
    "fig, ax = plt.subplots()\n",
    "ax.plot(recall, precision, color='purple')\n",
    "\n",
    "#add axis labels to plot\n",
    "ax.set_title('Precision-Recall Curve')\n",
    "ax.set_ylabel('Precision')\n",
    "ax.set_xlabel('Recall')\n",
    "\n",
    "#display plot\n",
    "plt.show() \n",
    "\n",
    "y_hat[y_hat >= 0.01] = 1 \n",
    "y_hat[y_hat < 0.01] = 0 \n",
    "temp = np.array(y_test) \n",
    "\n",
    "true_positive = 0 \n",
    "false_positive = 0 \n",
    "false_negative = 0 \n",
    "true_negative = 0 \n",
    "\n",
    "for i in range(len(y_hat)): \n",
    "    if y_hat[i] == 1 and temp[i] == 1: \n",
    "        true_positive += 1 \n",
    "    elif y_hat[i] == 1 and temp[i] == 0: \n",
    "        false_positive += 1\n",
    "    elif y_hat[i] == 0 and temp[i] == 1: \n",
    "        false_negative += 1 \n",
    "    else: \n",
    "        true_negative += 1 \n",
    "        \n",
    "print(\"true_positive:\", true_positive, \n",
    "      \"false_positive:\", false_positive, \n",
    "      \"false_negative:\", false_negative, \n",
    "      \"true_negative:\",true_negative) \n",
    "\n",
    "Precision = true_positive / (true_positive + false_positive) \n",
    "Recall = true_positive / (true_positive + false_negative) \n",
    "F1 = 2 * Precision * Recall / (Precision + Recall) \n",
    "\n",
    "print(\"Best Precision: \", Precision) \n",
    "print(\"Best Recall: \", Recall) \n",
    "print(\"Best F1: \", F1) \n",
    "\n",
    "metrics.plot_roc_curve(bestModel, X_test_new, y_test)  "
   ]
  },
  {
   "cell_type": "code",
   "execution_count": 118,
   "id": "821ce0de",
   "metadata": {},
   "outputs": [
    {
     "name": "stderr",
     "output_type": "stream",
     "text": [
      "C:\\anaconda3\\envs\\cs590w\\lib\\site-packages\\sklearn\\utils\\deprecation.py:87: FutureWarning: Function plot_confusion_matrix is deprecated; Function `plot_confusion_matrix` is deprecated in 1.0 and will be removed in 1.2. Use one of the class methods: ConfusionMatrixDisplay.from_predictions or ConfusionMatrixDisplay.from_estimator.\n",
      "  warnings.warn(msg, category=FutureWarning)\n"
     ]
    },
    {
     "data": {
      "text/plain": [
       "<sklearn.metrics._plot.confusion_matrix.ConfusionMatrixDisplay at 0x1d1def27c70>"
      ]
     },
     "execution_count": 118,
     "metadata": {},
     "output_type": "execute_result"
    },
    {
     "data": {
      "image/png": "[encoded data removed]",
      "text/plain": [
       "<Figure size 432x288 with 2 Axes>"
      ]
     },
     "metadata": {
      "needs_background": "light"
     },
     "output_type": "display_data"
    }
   ],
   "source": [
    "plot_confusion_matrix(bestModel, X_test_new, y_test)  "
   ]
  },
  {
   "cell_type": "markdown",
   "id": "0054099f",
   "metadata": {},
   "source": [
    "# "
   ]
  },
  {
   "cell_type": "markdown",
   "id": "d9ee5d2c",
   "metadata": {},
   "source": [
    "# DAG Analysis"
   ]
  },
  {
   "cell_type": "code",
   "execution_count": 160,
   "id": "e6ddd128",
   "metadata": {},
   "outputs": [],
   "source": [
    "X = df_resample.iloc[:, :-1] \n",
    "y = df_resample.iloc[:, -1] "
   ]
  },
  {
   "cell_type": "code",
   "execution_count": 161,
   "id": "a490eb4a",
   "metadata": {},
   "outputs": [
    {
     "name": "stdout",
     "output_type": "stream",
     "text": [
      "['CIG_0', 'CIG_1', 'CIG_2', 'CIG_3', 'PRIORLIVE', 'PRIORDEAD', 'PRIORTERM', 'ILLB_R', 'ILOP_R', 'ILP_R', 'IP_GON', 'IP_SYPH', 'IP_CHLAM', 'IP_HEPB', 'IP_HEPC', 'RF_PDIAB', 'RF_GDIAB', 'BMI', 'PWgt_R', 'WTGAIN', 'RF_INFTR', 'RF_FEDRG', 'FEDUC', 'MEDUC', 'FAGECOMB', 'MAGER', 'CA_ANEN']\n"
     ]
    }
   ],
   "source": [
    "l = df.columns.values.tolist() \n",
    "print(l)"
   ]
  },
  {
   "cell_type": "markdown",
   "id": "6d863063",
   "metadata": {},
   "source": [
    "##  WTGAIN DAG"
   ]
  },
  {
   "cell_type": "markdown",
   "id": "8094fc2c",
   "metadata": {},
   "source": [
    "### Unadjusted Association"
   ]
  },
  {
   "cell_type": "code",
   "execution_count": null,
   "id": "e8551082",
   "metadata": {},
   "outputs": [],
   "source": [
    "from sklearn.linear_model import LinearRegression\n",
    "\n",
    "exposure = \"WTGAIN\" # change for your exposure\n",
    "outcome = \"CA_ANEN\" \n",
    "\n",
    "df = df_save_for_causal\n",
    "\n",
    "df_DAG_unadjusted = df[[exposure, outcome]].dropna() \n",
    "\n",
    "model = LinearRegression().fit(np.array(df_DAG_unadjusted[exposure],dtype=np.float64).reshape(-1,1), \n",
    "                                             np.array(df_DAG_unadjusted['CA_ANEN'],dtype=np.float64))\n",
    "beta = model.coef_[0]\n",
    "odds_ratio = np.exp(beta) \n",
    "\n",
    "print(\"The odds ratio for unadjusted association is\", odds_ratio) \n",
    "\n",
    "\n",
    "positive_data = df_DAG_unadjusted[df_DAG_unadjusted['CA_ANEN'] == 1]\n",
    "positive_data = positive_data.drop(columns=['CA_ANEN'])\n",
    "\n",
    "false_data = df_DAG_unadjusted[df_DAG_unadjusted['CA_ANEN'] == 0] \n",
    "false_data = false_data.drop(columns=['CA_ANEN'])\n",
    "\n",
    "print(\"# of positive data\", len(positive_data))\n",
    "print(\"# of false data\", len(false_data))\n",
    "print(\"# of total population\", len(df))\n",
    "\n",
    "results = st.ttest_ind(a=false_data, b=positive_data, equal_var=False, alternative='two-sided') \n",
    "print(\"  - statistics = {}\".format(results.statistic)) \n",
    "print(\"  - p-value = {}\".format(results.pvalue)) \n",
    "\n",
    "positive_data = np.array(positive_data)\n",
    "false_data = np.array(false_data)\n",
    "s1 = np.var(positive_data, ddof = 1) \n",
    "s2 = np.var(false_data, ddof = 1) \n",
    "n1 = len(positive_data)\n",
    "n2 = len(false_data)\n",
    "x1_mu = np.mean(positive_data)\n",
    "x2_mu = np.mean(false_data) \n",
    "z = 1.96 \n",
    "\n",
    "sp = np.sqrt(((n1-1)*s1**2+(n2-1)*s2**2)/(n1+n2-2))\n",
    "ci_l = (x1_mu - x2_mu) - z * sp * np.sqrt(1/n1 + 1/n2) \n",
    "ci_2 = (x1_mu - x2_mu) + z * sp * np.sqrt(1/n1 + 1/n2) \n",
    "\n",
    "print(\"The 95% confidence interval is\", [ci_l, ci_2])\n"
   ]
  },
  {
   "cell_type": "markdown",
   "id": "53b0d92f",
   "metadata": {},
   "source": [
    "### Unadjusted Association"
   ]
  },
  {
   "cell_type": "code",
   "execution_count": null,
   "id": "9d79c174",
   "metadata": {},
   "outputs": [],
   "source": [
    "exposure = \"WTGAIN\" # change for your exposure\n",
    "variableMostConfident = \"MAGER\" # change for your variables\n",
    "outcome = \"CA_ANEN\" \n",
    "\n",
    "df_DAG_limited_adjustment = df[[exposure, variableMostConfident, outcome]].dropna() \n",
    "\n",
    "model = LinearRegression().fit(np.array(df_DAG_limited_adjustment.drop(columns=['CA_ANEN'])), \n",
    "                                             np.array(df_DAG_limited_adjustment['CA_ANEN'])) \n",
    "beta = model.coef_[0]\n",
    "odds_ratio = np.exp(beta) \n",
    "\n",
    "print(\"The odds ratio for Naïve adjusted association is\", odds_ratio) \n",
    "\n",
    "positive_data = np.array(positive_data)\n",
    "false_data = np.array(false_data)\n",
    "s1 = np.var(positive_data, ddof = 1) \n",
    "s2 = np.var(false_data, ddof = 1) \n",
    "n1 = len(positive_data)\n",
    "n2 = len(false_data)\n",
    "x1_mu = np.mean(positive_data)\n",
    "x2_mu = np.mean(false_data) \n",
    "z = 1.96 \n",
    "\n",
    "sp = np.sqrt(((n1-1)*s1**2+(n2-1)*s2**2)/(n1+n2-2))\n",
    "ci_l = (x1_mu - x2_mu) - z * sp * np.sqrt(1/n1 + 1/n2) \n",
    "ci_2 = (x1_mu - x2_mu) + z * sp * np.sqrt(1/n1 + 1/n2) \n",
    "\n",
    "print(\"The 95% confidence level is\", [ci_l, ci_2])\n"
   ]
  },
  {
   "cell_type": "markdown",
   "id": "8c5bc8e7",
   "metadata": {},
   "source": [
    "### Fully Adjusted Association"
   ]
  },
  {
   "cell_type": "code",
   "execution_count": null,
   "id": "78c2ce4f",
   "metadata": {},
   "outputs": [],
   "source": [
    "exposure = \"WTGAIN\"  # change for your exposure\n",
    "outcome = \"CA_ANEN\" \n",
    "\n",
    "# change based on your DAG\n",
    "df_DAG_limited_adjustment = df[[exposure, 'MAGER', 'CIG_1', 'CIG_2', 'CIG_3', 'RF_GDIAB', 'PWgt_R', 'RF_PDIAB', outcome]].dropna() \n",
    "\n",
    "model = LinearRegression().fit(np.array(df_DAG_limited_adjustment.drop(columns=['CA_ANEN'])), \n",
    "                                             np.array(df_DAG_limited_adjustment['CA_ANEN'])) \n",
    "beta = model.coef_[0]\n",
    "odds_ratio = np.exp(beta) \n",
    "\n",
    "print(\"The odds ratio for fully adjusted association is\", odds_ratio)\n",
    "\n",
    "positive_data = np.array(positive_data)\n",
    "false_data = np.array(false_data) \n",
    "s1 = np.var(positive_data, ddof = 1)  \n",
    "s2 = np.var(false_data, ddof = 1) \n",
    "n1 = len(positive_data)\n",
    "n2 = len(false_data)\n",
    "x1_mu = np.mean(positive_data)\n",
    "x2_mu = np.mean(false_data) \n",
    "z = 1.96 \n",
    "\n",
    "sp = np.sqrt(((n1-1)*s1**2+(n2-1)*s2**2)/(n1+n2-2))\n",
    "ci_l = (x1_mu - x2_mu) - z * sp * np.sqrt(1/n1 + 1/n2) \n",
    "ci_2 = (x1_mu - x2_mu) + z * sp * np.sqrt(1/n1 + 1/n2) \n",
    "\n",
    "print(\"The 95% confidence level is\", [ci_l, ci_2])\n"
   ]
  },
  {
   "cell_type": "markdown",
   "id": "a08f2814",
   "metadata": {},
   "source": [
    "# CIG_3 DAG"
   ]
  },
  {
   "cell_type": "markdown",
   "id": "38974f5e",
   "metadata": {},
   "source": [
    "### Unadjusted Association"
   ]
  },
  {
   "cell_type": "code",
   "execution_count": null,
   "id": "4a45d0e6",
   "metadata": {},
   "outputs": [],
   "source": [
    "df = df_save_for_causal\n",
    "\n",
    "exposure = \"CIG_3\"  # change for your exposure\n",
    "outcome = \"CA_ANEN\" \n",
    "\n",
    "# change based on your DAG\n",
    "df_DAG_limited_adjustment = df[[exposure, 'CIG_0', 'IP_HEPC', 'WTGAIN', 'IP_HEPB', 'IP_SYPH', 'IP_CHLAM', 'RF_INFTR','RF_GDIAB','MEDUC','FEDUC', outcome]].dropna() \n",
    "\n",
    "model = LinearRegression().fit(np.array(df_DAG_limited_adjustment.drop(columns=['CA_ANEN'])), \n",
    "                                             np.array(df_DAG_limited_adjustment['CA_ANEN'])) \n",
    "beta = model.coef_[0]\n",
    "odds_ratio = np.exp(beta) \n",
    "\n",
    "print(\"The odds ratio for fully adjusted association is\", odds_ratio)\n",
    "\n",
    "positive_data = np.array(positive_data)\n",
    "false_data = np.array(false_data) \n",
    "\n",
    "print(\"# of positive data\", len(positive_data))\n",
    "print(\"# of false data\", len(false_data))\n",
    "print(\"# of total population\", len(df))\n",
    "\n",
    "s1 = np.var(positive_data, ddof = 1)  \n",
    "s2 = np.var(false_data, ddof = 1) \n",
    "n1 = len(positive_data)\n",
    "n2 = len(false_data)\n",
    "x1_mu = np.mean(positive_data)\n",
    "x2_mu = np.mean(false_data) \n",
    "z = 1.96 \n",
    "\n",
    "sp = np.sqrt(((n1-1)*s1**2+(n2-1)*s2**2)/(n1+n2-2))\n",
    "ci_l = (x1_mu - x2_mu) - z * sp * np.sqrt(1/n1 + 1/n2) \n",
    "ci_2 = (x1_mu - x2_mu) + z * sp * np.sqrt(1/n1 + 1/n2) \n",
    "\n",
    "print(\"The 95% confidence level is\", [ci_l, ci_2])\n"
   ]
  },
  {
   "cell_type": "code",
   "execution_count": null,
   "id": "4f7606cd",
   "metadata": {},
   "outputs": [],
   "source": [
    "exposure = \"CIG_3\" # change for your exposure\n",
    "variableMostConfident = \"CIG_0\" # change for your variables\n",
    "outcome = \"CA_ANEN\" \n",
    "\n",
    "df_DAG_limited_adjustment = df[[exposure, variableMostConfident, outcome]].dropna() \n",
    "\n",
    "model = LinearRegression().fit(np.array(df_DAG_limited_adjustment.drop(columns=['CA_ANEN'])), \n",
    "                                             np.array(df_DAG_limited_adjustment['CA_ANEN'])) \n",
    "beta = model.coef_[0]\n",
    "odds_ratio = np.exp(beta) \n",
    "\n",
    "print(\"The odds ratio for Naïve adjusted association is\", odds_ratio) \n",
    "\n",
    "\n",
    "\n",
    "\n",
    "s1 = np.var(positive_data, ddof = 1) \n",
    "s2 = np.var(false_data, ddof = 1) \n",
    "n1 = len(positive_data)\n",
    "n2 = len(false_data)\n",
    "x1_mu = np.mean(positive_data)\n",
    "x2_mu = np.mean(false_data) \n",
    "z = 1.96 \n",
    "\n",
    "sp = np.sqrt(((n1-1)*s1**2+(n2-1)*s2**2)/(n1+n2-2))\n",
    "ci_l = (x1_mu - x2_mu) - z * sp * np.sqrt(1/n1 + 1/n2) \n",
    "ci_2 = (x1_mu - x2_mu) + z * sp * np.sqrt(1/n1 + 1/n2) \n",
    "\n",
    "print(\"The 95% confidence level is\", [ci_l, ci_2])\n"
   ]
  },
  {
   "cell_type": "code",
   "execution_count": null,
   "id": "c6b3dc5e",
   "metadata": {},
   "outputs": [],
   "source": [
    "exposure = \"CIG_3\" # change for your exposure\n",
    "outcome = \"CA_ANEN\"\n",
    "\n",
    "df_DAG_unadjusted = df[[exposure, outcome]].dropna() \n",
    "\n",
    "model = LinearRegression().fit(np.array(df_DAG_unadjusted[exposure],dtype=np.float64).reshape(-1,1), \n",
    "                                             np.array(df_DAG_unadjusted['CA_ANEN'],dtype=np.float64))\n",
    "beta = model.coef_[0]\n",
    "odds_ratio = np.exp(beta) \n",
    "\n",
    "print(\"The odds ratio for unadjusted association is\", odds_ratio) \n",
    "\n",
    "\n",
    "positive_data = df_DAG_unadjusted[df_DAG_unadjusted['CA_ANEN'] == 1]\n",
    "positive_data = positive_data.drop(columns=['CA_ANEN'])\n",
    "\n",
    "false_data = df_DAG_unadjusted[df_DAG_unadjusted['CA_ANEN'] == 0] \n",
    "false_data = false_data.drop(columns=['CA_ANEN'])\n",
    "\n",
    "results = st.ttest_ind(a=false_data, b=positive_data, equal_var=False, alternative='two-sided') \n",
    "print(\"  - statistics = {}\".format(results.statistic)) \n",
    "print(\"  - p-value = {}\".format(results.pvalue)) \n",
    "\n",
    "positive_data = np.array(positive_data)\n",
    "false_data = np.array(false_data)\n",
    "s1 = np.var(positive_data, ddof = 1) \n",
    "s2 = np.var(false_data, ddof = 1) \n",
    "n1 = len(positive_data)\n",
    "n2 = len(false_data)\n",
    "x1_mu = np.mean(positive_data)\n",
    "x2_mu = np.mean(false_data) \n",
    "z = 1.96 \n",
    "\n",
    "sp = np.sqrt(((n1-1)*s1**2+(n2-1)*s2**2)/(n1+n2-2))\n",
    "ci_l = (x1_mu - x2_mu) - z * sp * np.sqrt(1/n1 + 1/n2) \n",
    "ci_2 = (x1_mu - x2_mu) + z * sp * np.sqrt(1/n1 + 1/n2) \n",
    "\n",
    "print(\"The 95% confidence level is\", [ci_l, ci_2])\n"
   ]
  },
  {
   "cell_type": "markdown",
   "id": "26ff8381",
   "metadata": {},
   "source": [
    "# RF_PDIAB"
   ]
  },
  {
   "cell_type": "markdown",
   "id": "d194b6f7",
   "metadata": {},
   "source": [
    "### Unadjusted Association"
   ]
  },
  {
   "cell_type": "code",
   "execution_count": null,
   "id": "7e0e0084",
   "metadata": {},
   "outputs": [],
   "source": [
    "df = df_save_for_causal\n",
    "\n",
    "exposure = \"RF_PDIAB\" # change for your exposure\n",
    "outcome = \"CA_ANEN\"\n",
    "\n",
    "df_DAG_unadjusted = df[[exposure, outcome]].dropna() \n",
    "\n",
    "model = LogisticRegression(max_iter=1e6).fit(np.array(df_DAG_unadjusted[exposure],dtype=np.float64).reshape(-1,1), \n",
    "                                             np.array(df_DAG_unadjusted['CA_ANEN'],dtype=np.float64))\n",
    "beta = model.coef_[0, 0]\n",
    "odds_ratio = np.exp(beta) \n",
    "\n",
    "print(\"The odds ratio for unadjusted association is\", odds_ratio) \n",
    "\n",
    "print(\"positive: \", len(df_DAG_unadjusted[df_DAG_unadjusted[exposure] == 1]))\n",
    "print(\"negative: \", len(df_DAG_unadjusted[df_DAG_unadjusted[exposure] == 0]))\n",
    "\n",
    "positive_data = df_DAG_unadjusted[df_DAG_unadjusted['CA_ANEN'] == 1]\n",
    "positive_data = positive_data.drop(columns=['CA_ANEN'])\n",
    "\n",
    "false_data = df_DAG_unadjusted[df_DAG_unadjusted['CA_ANEN'] == 0] \n",
    "false_data = false_data.drop(columns=['CA_ANEN'])\n",
    "\n",
    "'''\n",
    "print(\"# of positive data\", len(positive_data))\n",
    "print(\"# of false data\", len(false_data))\n",
    "'''\n",
    "print(\"# of total population\", len(df))\n",
    "\n",
    "results = st.ttest_ind(a=false_data, b=positive_data, equal_var=False, alternative='two-sided') \n",
    "print(\"  - statistics = {}\".format(results.statistic)) \n",
    "print(\"  - p-value = {}\".format(results.pvalue)) \n",
    "\n",
    "positive_data = np.array(positive_data)\n",
    "false_data = np.array(false_data)\n",
    "s1 = np.var(positive_data, ddof = 1) \n",
    "s2 = np.var(false_data, ddof = 1) \n",
    "n1 = len(positive_data)\n",
    "n2 = len(false_data)\n",
    "x1_mu = np.mean(positive_data)\n",
    "x2_mu = np.mean(false_data) \n",
    "z = 1.96 \n",
    "\n",
    "sp = np.sqrt(((n1-1)*s1**2+(n2-1)*s2**2)/(n1+n2-2))\n",
    "ci_l = (x1_mu - x2_mu) - z * sp * np.sqrt(1/n1 + 1/n2) \n",
    "ci_2 = (x1_mu - x2_mu) + z * sp * np.sqrt(1/n1 + 1/n2) \n",
    "\n",
    "print(\"The 95% confidence level is\", [ci_l, ci_2]) \n",
    "\n"
   ]
  },
  {
   "cell_type": "code",
   "execution_count": null,
   "id": "97ba169e",
   "metadata": {},
   "outputs": [],
   "source": [
    "exposure = \"RF_PDIAB\" # change for your exposure\n",
    "variableMostConfident = \"CIG_0\" # change for your variables\n",
    "outcome = \"CA_ANEN\" \n",
    "\n",
    "df_DAG_limited_adjustment = df[[exposure, variableMostConfident, outcome]].dropna() \n",
    "\n",
    "model = LogisticRegression(max_iter=1e6).fit(np.array(df_DAG_limited_adjustment.drop(columns=['CA_ANEN'])), \n",
    "                                             np.array(df_DAG_limited_adjustment['CA_ANEN'])) \n",
    "beta = model.coef_[0, 0]\n",
    "odds_ratio = np.exp(beta) \n",
    "\n",
    "print(\"The odds ratio for Naïve adjusted association is\", odds_ratio) \n",
    "\n",
    "positive_data = np.array(positive_data)\n",
    "false_data = np.array(false_data)\n",
    "s1 = np.var(positive_data, ddof = 1) \n",
    "s2 = np.var(false_data, ddof = 1) \n",
    "n1 = len(positive_data)\n",
    "n2 = len(false_data)\n",
    "x1_mu = np.mean(positive_data)\n",
    "x2_mu = np.mean(false_data) \n",
    "z = 1.96 \n",
    "\n",
    "sp = np.sqrt(((n1-1)*s1**2+(n2-1)*s2**2)/(n1+n2-2))\n",
    "ci_l = (x1_mu - x2_mu) - z * sp * np.sqrt(1/n1 + 1/n2) \n",
    "ci_2 = (x1_mu - x2_mu) + z * sp * np.sqrt(1/n1 + 1/n2) \n",
    "\n",
    "print(\"The 95% confidence level is\", [ci_l, ci_2])\n",
    "\n"
   ]
  },
  {
   "cell_type": "code",
   "execution_count": null,
   "id": "fa01865b",
   "metadata": {},
   "outputs": [],
   "source": [
    "exposure = \"RF_PDIAB\"  # change for your exposure\n",
    "outcome = \"CA_ANEN\" \n",
    "\n",
    "# change based on your DAG\n",
    "df_DAG_limited_adjustment = df[[exposure, 'CIG_0', 'IP_HEPC', 'WTGAIN', 'IP_HEPB', 'IP_SYPH', 'IP_CHLAM', 'RF_INFTR','MEDUC','FEDUC','PRIORLIVE','RF_GDIAB', outcome]].dropna() \n",
    "\n",
    "model = LogisticRegression(max_iter=1e6).fit(np.array(df_DAG_limited_adjustment.drop(columns=['CA_ANEN'])), \n",
    "                                             np.array(df_DAG_limited_adjustment['CA_ANEN'])) \n",
    "beta = model.coef_[0, 0]\n",
    "odds_ratio = np.exp(beta) \n",
    "\n",
    "print(\"The odds ratio for fully adjusted association is\", odds_ratio)\n",
    "\n",
    "positive_data = np.array(positive_data)\n",
    "false_data = np.array(false_data) \n",
    "s1 = np.var(positive_data, ddof = 1)  \n",
    "s2 = np.var(false_data, ddof = 1) \n",
    "n1 = len(positive_data)\n",
    "n2 = len(false_data)\n",
    "x1_mu = np.mean(positive_data)\n",
    "x2_mu = np.mean(false_data) \n",
    "z = 1.96 \n",
    "\n",
    "sp = np.sqrt(((n1-1)*s1**2+(n2-1)*s2**2)/(n1+n2-2))\n",
    "ci_l = (x1_mu - x2_mu) - z * sp * np.sqrt(1/n1 + 1/n2) \n",
    "ci_2 = (x1_mu - x2_mu) + z * sp * np.sqrt(1/n1 + 1/n2) \n",
    "\n",
    "print(\"The 95% confidence level is\", [ci_l, ci_2]) \n",
    "\n"
   ]
  },
  {
   "cell_type": "markdown",
   "id": "18ce3330",
   "metadata": {},
   "source": [
    "# IP_HEPB"
   ]
  },
  {
   "cell_type": "markdown",
   "id": "0064b668",
   "metadata": {},
   "source": [
    "# Unadjusted Association"
   ]
  },
  {
   "cell_type": "code",
   "execution_count": null,
   "id": "6efec329",
   "metadata": {},
   "outputs": [],
   "source": [
    "df = df_save_for_causal\n",
    "\n",
    "exposure = \"IP_HEPB\" # change for your exposure\n",
    "outcome = \"CA_ANEN\"\n",
    "\n",
    "df_DAG_unadjusted = df[[exposure, outcome]].dropna() \n",
    "\n",
    "model = LogisticRegression(max_iter=1e6).fit(np.array(df_DAG_unadjusted[exposure],dtype=np.float64).reshape(-1,1), \n",
    "                                             np.array(df_DAG_unadjusted['CA_ANEN'],dtype=np.float64))\n",
    "beta = model.coef_[0, 0]\n",
    "odds_ratio = np.exp(beta) \n",
    "\n",
    "print(\"The odds ratio for unadjusted association is\", odds_ratio) \n",
    "\n",
    "print(\"positive: \", len(df_DAG_unadjusted[df_DAG_unadjusted[exposure] == 1]))\n",
    "print(\"negative: \", len(df_DAG_unadjusted[df_DAG_unadjusted[exposure] == 0]))\n",
    "\n",
    "positive_data = df_DAG_unadjusted[df_DAG_unadjusted['CA_ANEN'] == 1]\n",
    "positive_data = positive_data.drop(columns=['CA_ANEN'])\n",
    "\n",
    "false_data = df_DAG_unadjusted[df_DAG_unadjusted['CA_ANEN'] == 0] \n",
    "false_data = false_data.drop(columns=['CA_ANEN']) \n",
    "\n",
    "'''\n",
    "print(\"# of positive data\", len(positive_data))\n",
    "print(\"# of false data\", len(false_data))\n",
    "'''\n",
    "\n",
    "print(\"# of total population\", len(df))\n",
    "\n",
    "results = st.ttest_ind(a=false_data, b=positive_data, equal_var=False, alternative='two-sided') \n",
    "print(\"  - statistics = {}\".format(results.statistic)) \n",
    "print(\"  - p-value = {}\".format(results.pvalue)) \n",
    "\n",
    "positive_data = np.array(positive_data)\n",
    "false_data = np.array(false_data)\n",
    "s1 = np.var(positive_data, ddof = 1) \n",
    "s2 = np.var(false_data, ddof = 1) \n",
    "n1 = len(positive_data)\n",
    "n2 = len(false_data)\n",
    "x1_mu = np.mean(positive_data)\n",
    "x2_mu = np.mean(false_data) \n",
    "z = 1.96 \n",
    "\n",
    "sp = np.sqrt(((n1-1)*s1**2+(n2-1)*s2**2)/(n1+n2-2))\n",
    "ci_l = (x1_mu - x2_mu) - z * sp * np.sqrt(1/n1 + 1/n2) \n",
    "ci_2 = (x1_mu - x2_mu) + z * sp * np.sqrt(1/n1 + 1/n2) \n",
    "\n",
    "print(\"The 95% confidence level is\", [ci_l, ci_2])\n"
   ]
  },
  {
   "cell_type": "code",
   "execution_count": null,
   "id": "83d3df39",
   "metadata": {},
   "outputs": [],
   "source": [
    "exposure = \"IP_HEPB\" # change for your exposure\n",
    "variableMostConfident = \"CIG_0\" # change for your variables\n",
    "outcome = \"CA_ANEN\" \n",
    "\n",
    "df_DAG_limited_adjustment = df[[exposure, variableMostConfident, outcome]].dropna() \n",
    "\n",
    "model = LogisticRegression(max_iter=1e6).fit(np.array(df_DAG_limited_adjustment.drop(columns=['CA_ANEN'])), \n",
    "                                             np.array(df_DAG_limited_adjustment['CA_ANEN'])) \n",
    "beta = model.coef_[0, 0]\n",
    "odds_ratio = np.exp(beta) \n",
    "\n",
    "print(\"The odds ratio for Naïve adjusted association is\", odds_ratio) \n",
    "\n",
    "positive_data = np.array(positive_data)\n",
    "false_data = np.array(false_data)\n",
    "s1 = np.var(positive_data, ddof = 1) \n",
    "s2 = np.var(false_data, ddof = 1) \n",
    "n1 = len(positive_data)\n",
    "n2 = len(false_data)\n",
    "x1_mu = np.mean(positive_data)\n",
    "x2_mu = np.mean(false_data) \n",
    "z = 1.96 \n",
    "\n",
    "sp = np.sqrt(((n1-1)*s1**2+(n2-1)*s2**2)/(n1+n2-2))\n",
    "ci_l = (x1_mu - x2_mu) - z * sp * np.sqrt(1/n1 + 1/n2) \n",
    "ci_2 = (x1_mu - x2_mu) + z * sp * np.sqrt(1/n1 + 1/n2) \n",
    "\n",
    "print(\"The 95% confidence level is\", [ci_l, ci_2])\n"
   ]
  },
  {
   "cell_type": "code",
   "execution_count": null,
   "id": "941ec9de",
   "metadata": {},
   "outputs": [],
   "source": [
    "exposure = \"IP_HEPB\"  # change for your exposure\n",
    "outcome = \"CA_ANEN\" \n",
    "\n",
    "# change based on your DAG\n",
    "df_DAG_limited_adjustment = df[[exposure, 'CIG_0', 'RF_INFTR','MEDUC','FEDUC','RF_PDIAB','RF_GDIAB', outcome]].dropna() \n",
    "\n",
    "model = LogisticRegression(max_iter=1e6).fit(np.array(df_DAG_limited_adjustment.drop(columns=['CA_ANEN'])), \n",
    "                                             np.array(df_DAG_limited_adjustment['CA_ANEN'])) \n",
    "beta = model.coef_[0, 0]\n",
    "odds_ratio = np.exp(beta) \n",
    "\n",
    "print(\"The odds ratio for fully adjusted association is\", odds_ratio)\n",
    "\n",
    "positive_data = np.array(positive_data)\n",
    "false_data = np.array(false_data) \n",
    "s1 = np.var(positive_data, ddof = 1)  \n",
    "s2 = np.var(false_data, ddof = 1) \n",
    "n1 = len(positive_data)\n",
    "n2 = len(false_data)\n",
    "x1_mu = np.mean(positive_data)\n",
    "x2_mu = np.mean(false_data) \n",
    "z = 1.96 \n",
    "\n",
    "sp = np.sqrt(((n1-1)*s1**2+(n2-1)*s2**2)/(n1+n2-2))\n",
    "ci_l = (x1_mu - x2_mu) - z * sp * np.sqrt(1/n1 + 1/n2) \n",
    "ci_2 = (x1_mu - x2_mu) + z * sp * np.sqrt(1/n1 + 1/n2) \n",
    "\n",
    "print(\"The 95% confidence level is\", [ci_l, ci_2])\n"
   ]
  },
  {
   "cell_type": "code",
   "execution_count": null,
   "id": "4b247f33",
   "metadata": {},
   "outputs": [],
   "source": []
  },
  {
   "cell_type": "code",
   "execution_count": null,
   "id": "11e287b6",
   "metadata": {},
   "outputs": [],
   "source": [
    "l = df.columns.values.tolist() \n",
    "\n",
    "\n",
    "for i in range(len(l)-1): \n",
    "    exposure = l[i]\n",
    "    outcome = \"CA_ANEN\"\n",
    "\n",
    "    df_DAG_unadjusted = df[[exposure, outcome]].dropna() \n",
    "\n",
    "    model = LogisticRegression(max_iter=1e6).fit(np.array(df_DAG_unadjusted[exposure],dtype=np.float64).reshape(-1,1), \n",
    "                                                 np.array(df_DAG_unadjusted['CA_ANEN'],dtype=np.float64))\n",
    "    beta = model.coef_[0, 0]\n",
    "    odds_ratio = np.exp(beta) \n",
    "\n",
    "    print(l[i], \"The odds ratio for unadjusted association is\", odds_ratio) \n",
    "\n",
    "    '''\n",
    "    positive_data = df_DAG_unadjusted[df_DAG_unadjusted['CA_ANEN'] == 1]\n",
    "    positive_data = positive_data.drop(columns=['CA_ANEN'])\n",
    "\n",
    "    false_data = df_DAG_unadjusted[df_DAG_unadjusted['CA_ANEN'] == 0] \n",
    "    false_data = false_data.drop(columns=['CA_ANEN'])\n",
    "\n",
    "    results = st.ttest_ind(a=false_data, b=positive_data, equal_var=False, alternative='two-sided') \n",
    "    print(\"  - statistics = {}\".format(results.statistic)) \n",
    "    print(\"  - p-value = {}\".format(results.pvalue)) \n",
    "\n",
    "    positive_data = np.array(positive_data)\n",
    "    false_data = np.array(false_data)\n",
    "    s1 = np.var(positive_data, ddof = 1) \n",
    "    s2 = np.var(false_data, ddof = 1) \n",
    "    n1 = len(positive_data)\n",
    "    n2 = len(false_data)\n",
    "    x1_mu = np.mean(positive_data)\n",
    "    x2_mu = np.mean(false_data) \n",
    "    z = 1.96 \n",
    "\n",
    "    sp = np.sqrt(((n1-1)*s1**2+(n2-1)*s2**2)/(n1+n2-2))\n",
    "    ci_l = (x1_mu - x2_mu) - z * sp * np.sqrt(1/n1 + 1/n2) \n",
    "    ci_2 = (x1_mu - x2_mu) + z * sp * np.sqrt(1/n1 + 1/n2) \n",
    "\n",
    "    print(\"The 95% confidence level is\", [ci_l, ci_2]) \n",
    "    '''\n"
   ]
  },
  {
   "cell_type": "code",
   "execution_count": null,
   "id": "7a3c7f76",
   "metadata": {},
   "outputs": [],
   "source": [
    "'''\n",
    "CIG_0 checked\n",
    "CIG_1 The odds ratio for unadjusted association is 0.9987017088165707\n",
    "CIG_2 The odds ratio for unadjusted association is 1.0110606003368303\n",
    "CIG_3 done \n",
    "PRIORLIVE The odds ratio for unadjusted association is 1.1947840524182531\n",
    "PRIORDEAD The odds ratio for unadjusted association is 1.3387372490209957 -> to do \n",
    "PRIORTERM The odds ratio for unadjusted association is 1.1713297909526108\n",
    "ILLB_R The odds ratio for unadjusted association is 1.002104084704455\n",
    "ILOP_R The odds ratio for unadjusted association is 1.0016633028289226\n",
    "ILP_R The odds ratio for unadjusted association is 0.9995076020172732\n",
    "IP_GON The odds ratio for unadjusted association is 0.7461448009317625\n",
    "IP_SYPH The odds ratio for unadjusted association is 0.8191542650408749\n",
    "IP_CHLAM The odds ratio for unadjusted association is 1.0596617578968939\n",
    "IP_HEPB done \n",
    "IP_HEPC The odds ratio for unadjusted association is 1.2267542819334163\n",
    "RF_PDIAB done \n",
    "RF_GDIAB The odds ratio for unadjusted association is 0.9533819751478366\n",
    "BMI The odds ratio for unadjusted association is 1.011010932399839\n",
    "PWgt_R The odds ratio for unadjusted association is 1.0005549689713746\n",
    "WTGAIN done \n",
    "RF_INFTR The odds ratio for unadjusted association is 0.9222551027523305\n",
    "RF_FEDRG The odds ratio for unadjusted association is 0.7522220620267115\n",
    "FEDUC The odds ratio for unadjusted association is 0.8616172656186928\n",
    "MEDUC The odds ratio for unadjusted association is 0.828819665402354\n",
    "FAGECOMB The odds ratio for unadjusted association is 0.99375851582722\n",
    "MAGER The odds ratio for unadjusted association is 1.0005779591583988\n",
    "\n",
    "'''"
   ]
  },
  {
   "cell_type": "code",
   "execution_count": null,
   "id": "2da834d9",
   "metadata": {},
   "outputs": [],
   "source": []
  }
 ],
 "metadata": {
  "kernelspec": {
   "display_name": "Python 3 (ipykernel)",
   "language": "python",
   "name": "python3"
  },
  "language_info": {
   "codemirror_mode": {
    "name": "ipython",
    "version": 3
   },
   "file_extension": ".py",
   "mimetype": "text/x-python",
   "name": "python",
   "nbconvert_exporter": "python",
   "pygments_lexer": "ipython3",
   "version": "3.8.12"
  }
 },
 "nbformat": 4,
 "nbformat_minor": 5
}
